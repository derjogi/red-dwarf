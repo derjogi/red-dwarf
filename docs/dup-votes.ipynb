{
  "nbformat": 4,
  "nbformat_minor": 0,
  "metadata": {
    "colab": {
      "provenance": []
    },
    "kernelspec": {
      "name": "python3",
      "display_name": "Python 3"
    },
    "language_info": {
      "name": "python"
    }
  },
  "cells": [
    {
     "cell_type": "markdown",
     "metadata": {
      "colab_type": "text",
      "id": "view-in-github"
     },
     "source": [
      "<a href=\"https://colab.research.google.com/github/patcon/red-dwarf/blob/main/docs/dup-votes.ipynb\" target=\"_parent\"><img src=\"https://colab.research.google.com/assets/colab-badge.svg\" alt=\"Open In Colab\"/></a>"
     ]
    },
    {
      "cell_type": "code",
      "execution_count": 1,
      "metadata": {
        "colab": {
          "base_uri": "https://localhost:8080/"
        },
        "id": "kEyVHx6y7zpu",
        "outputId": "7e9679b7-468c-49ef-ed5c-6cb54f58d668"
      },
      "outputs": [
        {
          "output_type": "stream",
          "name": "stdout",
          "text": [
            "  Installing build dependencies ... \u001b[?25l\u001b[?25hdone\n",
            "  Getting requirements to build wheel ... \u001b[?25l\u001b[?25hdone\n",
            "  Preparing metadata (pyproject.toml) ... \u001b[?25l\u001b[?25hdone\n",
            "\u001b[2K   \u001b[90m━━━━━━━━━━━━━━━━━━━━━━━━━━━━━━━━━━━━━━━━\u001b[0m \u001b[32m116.1/116.1 kB\u001b[0m \u001b[31m5.1 MB/s\u001b[0m eta \u001b[36m0:00:00\u001b[0m\n",
            "\u001b[2K   \u001b[90m━━━━━━━━━━━━━━━━━━━━━━━━━━━━━━━━━━━━━━━━\u001b[0m \u001b[32m125.8/125.8 kB\u001b[0m \u001b[31m18.0 MB/s\u001b[0m eta \u001b[36m0:00:00\u001b[0m\n",
            "\u001b[2K   \u001b[90m━━━━━━━━━━━━━━━━━━━━━━━━━━━━━━━━━━━━━━━━\u001b[0m \u001b[32m61.4/61.4 kB\u001b[0m \u001b[31m177.4 MB/s\u001b[0m eta \u001b[36m0:00:00\u001b[0m\n",
            "\u001b[2K   \u001b[90m━━━━━━━━━━━━━━━━━━━━━━━━━━━━━━━━━━━━━━━━\u001b[0m \u001b[32m66.4/66.4 kB\u001b[0m \u001b[31m148.5 MB/s\u001b[0m eta \u001b[36m0:00:00\u001b[0m\n",
            "\u001b[?25h  Building wheel for red-dwarf-democracy (pyproject.toml) ... \u001b[?25l\u001b[?25hdone\n"
          ]
        }
      ],
      "source": [
        "!pip install --quiet --no-cache-dir git+https://github.com/patcon/red-dwarf.git@main"
      ]
    },
    {
      "cell_type": "code",
      "source": [
        "CONVOS = {\n",
        "    # Topic: What were the most significant developments in tech and politics in 2018?\n",
        "    # 5 groups, 65 ptpts (56 grouped), 43 comments (open)\n",
        "    \"tech-politics-2018\": {\n",
        "        \"report_id\": \"r2dfw8eambusb8buvecjt\",\n",
        "        \"convo_id\": \"6jrufhr6dp\",\n",
        "    },\n",
        "    # Topic: How should we operate vehicle-for-hire, e.g. Uber, Lyft and taxis in Toronto?\n",
        "    # 2 groups, 47 ptpts (36 grouped), 69 comments (open)\n",
        "    \"rideshare-toronto\": {\n",
        "        \"report_id\": \"r8xhmkwp6shm9yfermteh\",\n",
        "        \"convo_id\": \"7vampckwrh\",\n",
        "    },\n",
        "}"
      ],
      "metadata": {
        "id": "4Offyb7fPpUg"
      },
      "execution_count": 10,
      "outputs": []
    },
    {
      "cell_type": "code",
      "source": [
        "from reddwarf.polis import PolisClient\n",
        "\n",
        "report_id = CONVOS[\"tech-politics-2018\"][\"report_id\"]\n",
        "print(f\"Loading data from report: https://pol.is/report/{report_id}\")\n",
        "\n",
        "client = PolisClient(is_strict_moderation=False)\n",
        "# Load data with duplicate votes.\n",
        "client.load_data(report_id=report_id, data_source=\"csv_export\")"
      ],
      "metadata": {
        "colab": {
          "base_uri": "https://localhost:8080/"
        },
        "id": "NkGdoHCy8RdA",
        "outputId": "67fe1daf-0442-4ed6-9a8c-47a3e2bdc688"
      },
      "execution_count": 19,
      "outputs": [
        {
          "output_type": "stream",
          "name": "stdout",
          "text": [
            "Loading data from report: https://pol.is/report/r2dfw8eambusb8buvecjt\n",
            "Removing duplicate vote: {'participant_id': 53, 'statement_id': 12, 'vote': 0, 'weight_x_32767': None, 'modified': 1544850996000.0, 'conversation_id': None, 'datetime': 'Sat Dec 15 2018 05:16:36 GMT+0000 (Coordinated Universal Time)'}\n",
            "Removing duplicate vote: {'participant_id': 53, 'statement_id': 5, 'vote': 0, 'weight_x_32767': None, 'modified': 1544850847000.0, 'conversation_id': None, 'datetime': 'Sat Dec 15 2018 05:14:07 GMT+0000 (Coordinated Universal Time)'}\n",
            "Removing duplicate vote: {'participant_id': 53, 'statement_id': 38, 'vote': 1, 'weight_x_32767': None, 'modified': 1544850841000.0, 'conversation_id': None, 'datetime': 'Sat Dec 15 2018 05:14:01 GMT+0000 (Coordinated Universal Time)'}\n",
            "Removing duplicate vote: {'participant_id': 53, 'statement_id': 42, 'vote': 0, 'weight_x_32767': None, 'modified': 1544850719000.0, 'conversation_id': None, 'datetime': 'Sat Dec 15 2018 05:11:59 GMT+0000 (Coordinated Universal Time)'}\n",
            "Removing duplicate vote: {'participant_id': 10, 'statement_id': 11, 'vote': 1, 'weight_x_32767': None, 'modified': 1544582478000.0, 'conversation_id': None, 'datetime': 'Wed Dec 12 2018 02:41:18 GMT+0000 (Coordinated Universal Time)'}\n"
          ]
        }
      ]
    }
  ]
}
