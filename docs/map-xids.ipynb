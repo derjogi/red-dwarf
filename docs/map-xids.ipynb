{
  "nbformat": 4,
  "nbformat_minor": 0,
  "metadata": {
    "colab": {
      "provenance": []
    },
    "kernelspec": {
      "name": "python3",
      "display_name": "Python 3"
    },
    "language_info": {
      "name": "python"
    }
  },
  "cells": [
    {
     "cell_type": "markdown",
     "metadata": {
      "colab_type": "text",
      "id": "view-in-github"
     },
     "source": [
      "<a href=\"https://colab.research.google.com/github/patcon/red-dwarf/blob/main/docs/map-xids.ipynb\" target=\"_parent\"><img src=\"https://colab.research.google.com/assets/colab-badge.svg\" alt=\"Open In Colab\"/></a>"
     ]
    },
    {
      "cell_type": "code",
      "execution_count": 1,
      "metadata": {
        "colab": {
          "base_uri": "https://localhost:8080/"
        },
        "id": "kEyVHx6y7zpu",
        "outputId": "7e9679b7-468c-49ef-ed5c-6cb54f58d668"
      },
      "outputs": [
        {
          "output_type": "stream",
          "name": "stdout",
          "text": [
            "  Installing build dependencies ... \u001b[?25l\u001b[?25hdone\n",
            "  Getting requirements to build wheel ... \u001b[?25l\u001b[?25hdone\n",
            "  Preparing metadata (pyproject.toml) ... \u001b[?25l\u001b[?25hdone\n",
            "\u001b[2K   \u001b[90m━━━━━━━━━━━━━━━━━━━━━━━━━━━━━━━━━━━━━━━━\u001b[0m \u001b[32m116.1/116.1 kB\u001b[0m \u001b[31m5.1 MB/s\u001b[0m eta \u001b[36m0:00:00\u001b[0m\n",
            "\u001b[2K   \u001b[90m━━━━━━━━━━━━━━━━━━━━━━━━━━━━━━━━━━━━━━━━\u001b[0m \u001b[32m125.8/125.8 kB\u001b[0m \u001b[31m18.0 MB/s\u001b[0m eta \u001b[36m0:00:00\u001b[0m\n",
            "\u001b[2K   \u001b[90m━━━━━━━━━━━━━━━━━━━━━━━━━━━━━━━━━━━━━━━━\u001b[0m \u001b[32m61.4/61.4 kB\u001b[0m \u001b[31m177.4 MB/s\u001b[0m eta \u001b[36m0:00:00\u001b[0m\n",
            "\u001b[2K   \u001b[90m━━━━━━━━━━━━━━━━━━━━━━━━━━━━━━━━━━━━━━━━\u001b[0m \u001b[32m66.4/66.4 kB\u001b[0m \u001b[31m148.5 MB/s\u001b[0m eta \u001b[36m0:00:00\u001b[0m\n",
            "\u001b[?25h  Building wheel for red-dwarf-democracy (pyproject.toml) ... \u001b[?25l\u001b[?25hdone\n"
          ]
        }
      ],
      "source": [
        "!pip install --quiet --no-cache-dir git+https://github.com/patcon/red-dwarf.git@main"
      ]
    },
    {
      "cell_type": "code",
      "source": [
        "from reddwarf.polis import PolisClient\n",
        "\n",
        "client = PolisClient()\n",
        "CONVO_ID_WITH_XIDS=\"4kjz5rrrfe\"\n",
        "client.load_data(conversation_id=CONVO_ID_WITH_XIDS)\n",
        "known_xids = [12334552, 12334553, 12334554, \"foobar\"]\n",
        "mappings = client.data_loader.fetch_xid_to_pid_mappings(known_xids)\n",
        "for xid, pid in mappings.items():\n",
        "    print(f\"{pid=} => {xid=}\")"
      ],
      "metadata": {
        "colab": {
          "base_uri": "https://localhost:8080/"
        },
        "id": "NkGdoHCy8RdA",
        "outputId": "7cf2f482-8333-4e05-9333-a71753ade778"
      },
      "execution_count": 3,
      "outputs": [
        {
          "output_type": "stream",
          "name": "stdout",
          "text": [
            "pid=3 => xid=12334552\n",
            "pid=2 => xid=12334553\n",
            "pid=1 => xid=12334554\n",
            "pid=9 => xid='foobar'\n"
          ]
        }
      ]
    },
    {
      "cell_type": "code",
      "source": [
        "# @title\n",
        "expected_mappings = {\n",
        "    12334554: 1,\n",
        "    12334553: 2,\n",
        "    12334552: 3,\n",
        "    \"foobar\": 9,\n",
        "}\n",
        "\n",
        "assert mappings == expected_mappings"
      ],
      "metadata": {
        "cellView": "form",
        "id": "UkpZNDUkIpRI"
      },
      "execution_count": 9,
      "outputs": []
    }
  ]
}
