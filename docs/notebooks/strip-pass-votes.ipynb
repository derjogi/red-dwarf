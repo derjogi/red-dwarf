{
  "cells": [
    {
      "cell_type": "markdown",
      "metadata": {
        "id": "view-in-github",
        "colab_type": "text"
      },
      "source": [
        "<a href=\"https://colab.research.google.com/github/polis-community/red-dwarf/blob/main/docs/notebooks/strip-pass-votes.ipynb\" target=\"_parent\"><img src=\"https://colab.research.google.com/assets/colab-badge.svg\" alt=\"Open In Colab\"/></a>"
      ]
    },
    {
      "cell_type": "code",
      "execution_count": 1,
      "metadata": {
        "colab": {
          "base_uri": "https://localhost:8080/"
        },
        "id": "kEyVHx6y7zpu",
        "outputId": "bed4875b-245e-460a-d3ac-9fdece16b062"
      },
      "outputs": [
        {
          "output_type": "stream",
          "name": "stdout",
          "text": [
            "  Installing build dependencies ... \u001b[?25l\u001b[?25hdone\n",
            "  Getting requirements to build wheel ... \u001b[?25l\u001b[?25hdone\n",
            "  Preparing metadata (pyproject.toml) ... \u001b[?25l\u001b[?25hdone\n",
            "\u001b[2K   \u001b[90m━━━━━━━━━━━━━━━━━━━━━━━━━━━━━━━━━━━━━━━━\u001b[0m \u001b[32m116.1/116.1 kB\u001b[0m \u001b[31m10.4 MB/s\u001b[0m eta \u001b[36m0:00:00\u001b[0m\n",
            "\u001b[2K   \u001b[90m━━━━━━━━━━━━━━━━━━━━━━━━━━━━━━━━━━━━━━━━\u001b[0m \u001b[32m161.7/161.7 kB\u001b[0m \u001b[31m25.1 MB/s\u001b[0m eta \u001b[36m0:00:00\u001b[0m\n",
            "\u001b[2K   \u001b[90m━━━━━━━━━━━━━━━━━━━━━━━━━━━━━━━━━━━━━━━━\u001b[0m \u001b[32m61.4/61.4 kB\u001b[0m \u001b[31m168.9 MB/s\u001b[0m eta \u001b[36m0:00:00\u001b[0m\n",
            "\u001b[2K   \u001b[90m━━━━━━━━━━━━━━━━━━━━━━━━━━━━━━━━━━━━━━━━\u001b[0m \u001b[32m69.4/69.4 kB\u001b[0m \u001b[31m145.0 MB/s\u001b[0m eta \u001b[36m0:00:00\u001b[0m\n",
            "\u001b[?25h  Building wheel for red-dwarf (pyproject.toml) ... \u001b[?25l\u001b[?25hdone\n"
          ]
        }
      ],
      "source": [
        "%pip install --quiet --no-cache-dir git+https://github.com/polis-community/red-dwarf.git@main"
      ]
    },
    {
      "cell_type": "code",
      "execution_count": 2,
      "metadata": {
        "id": "4Offyb7fPpUg"
      },
      "outputs": [],
      "source": [
        "CONVOS = {\n",
        "    # Topic: What were the most significant developments in tech and politics in 2018?\n",
        "    # 5 groups, 65 ptpts (56 grouped), 43 comments (open)\n",
        "    \"tech-politics-2018\": {\n",
        "        \"report_id\": \"r2dfw8eambusb8buvecjt\",\n",
        "        \"convo_id\": \"6jrufhr6dp\",\n",
        "    },\n",
        "    # Topic: How should we operate vehicle-for-hire, e.g. Uber, Lyft and taxis in Toronto?\n",
        "    # 2 groups, 47 ptpts (36 grouped), 69 comments (open)\n",
        "    \"rideshare-toronto\": {\n",
        "        \"report_id\": \"r8xhmkwp6shm9yfermteh\",\n",
        "        \"convo_id\": \"7vampckwrh\",\n",
        "    },\n",
        "}"
      ]
    },
    {
      "cell_type": "code",
      "execution_count": 3,
      "metadata": {
        "id": "tothK_WVb9-7"
      },
      "outputs": [],
      "source": [
        "# Set up interactive widgets.\n",
        "\n",
        "from ipywidgets import interact, interact_manual\n",
        "import ipywidgets as widgets\n",
        "from random import random\n",
        "\n",
        "checkbox = widgets.Checkbox(\n",
        "    value=False,\n",
        "    description='Remove pass votes',\n",
        "    indent=True,\n",
        ")\n",
        "random_val = widgets.FloatText()\n",
        "button = widgets.Button(description=\"Re-run Clustering\")\n",
        "\n",
        "def on_button_click(_):\n",
        "    random_val.value = random()\n",
        "button.on_click(on_button_click)"
      ]
    },
    {
      "cell_type": "code",
      "execution_count": 6,
      "metadata": {
        "colab": {
          "base_uri": "https://localhost:8080/",
          "height": 590,
          "referenced_widgets": [
            "bf7368790cb54709929009b8f841eccb",
            "656e58e154194dc28e963c6750916d69",
            "23fa1dc4808a47968551cfbde155ece0",
            "2428ade3c2624da98d038bea07060e18",
            "1ff6c057e7bc4c33bde83fe8595fbfc5",
            "279abb3e324b46e48619838982625e78",
            "fbe7ce9400714f1c8f8b4ef0b5884f79",
            "0e33a9de67604913a2481cb138a8f1fb",
            "a2a50473e06a48f5bfc003fd33c074f4",
            "0b116dd195c54574afac6049e139ce17"
          ]
        },
        "id": "NkGdoHCy8RdA",
        "outputId": "c65eca47-ad3a-4740-80a4-ca8db7690a8a"
      },
      "outputs": [
        {
          "output_type": "stream",
          "name": "stdout",
          "text": [
            "Loading data from report: https://pol.is/report/r2dfw8eambusb8buvecjt\n",
            "\n",
            "Run with or without pass votes, to see the algorithmic effect of including pass votes.\n"
          ]
        },
        {
          "output_type": "display_data",
          "data": {
            "text/plain": [
              "HBox(children=(Checkbox(value=False, description='Remove pass votes'), Button(description='Re-run Clustering',…"
            ],
            "application/vnd.jupyter.widget-view+json": {
              "version_major": 2,
              "version_minor": 0,
              "model_id": "bf7368790cb54709929009b8f841eccb"
            }
          },
          "metadata": {}
        },
        {
          "output_type": "display_data",
          "data": {
            "text/plain": [
              "Output()"
            ],
            "application/vnd.jupyter.widget-view+json": {
              "version_major": 2,
              "version_minor": 0,
              "model_id": "a2a50473e06a48f5bfc003fd33c074f4"
            }
          },
          "metadata": {}
        }
      ],
      "source": [
        "from reddwarf.polis import PolisClient\n",
        "from reddwarf.data_presenter import DataPresenter\n",
        "\n",
        "report_id = CONVOS[\"tech-politics-2018\"][\"report_id\"]\n",
        "print(f\"Loading data from report: https://pol.is/report/{report_id}\")\n",
        "print()\n",
        "print(\"Run with or without pass votes, to see the algorithmic effect of including pass votes.\")\n",
        "\n",
        "# Display the checkboxes.\n",
        "display(widgets.HBox([checkbox, button]))\n",
        "\n",
        "# To see the consequences of not having pass/neutral/zero votes\n",
        "def cluster_and_plot(do_strip_pass_votes, dummy_var):\n",
        "    client = PolisClient()\n",
        "    client.load_data(polis_id=report_id)\n",
        "    if do_strip_pass_votes:\n",
        "        client.votes = []\n",
        "        client.load_votes_data(data=[v for v in client.data_loader.votes_data if v[\"vote\"] != 0])\n",
        "    client.get_matrix(is_filtered=True)\n",
        "    client.run_pca()\n",
        "    client.find_optimal_k()\n",
        "\n",
        "    presenter = DataPresenter(client=client)\n",
        "    presenter.render_optimal_cluster_figure()\n",
        "\n",
        "# Render the interactive widget\n",
        "widgets.interactive_output(cluster_and_plot, {'do_strip_pass_votes': checkbox, 'dummy_var': random_val})"
      ]
    }
  ],
  "metadata": {
    "colab": {
      "provenance": [],
      "include_colab_link": true
    },
    "kernelspec": {
      "display_name": "Python 3",
      "name": "python3"
    },
    "language_info": {
      "name": "python"
    },
    "widgets": {
      "application/vnd.jupyter.widget-state+json": {
        "bf7368790cb54709929009b8f841eccb": {
          "model_module": "@jupyter-widgets/controls",
          "model_name": "HBoxModel",
          "model_module_version": "1.5.0",
          "state": {
            "_dom_classes": [],
            "_model_module": "@jupyter-widgets/controls",
            "_model_module_version": "1.5.0",
            "_model_name": "HBoxModel",
            "_view_count": null,
            "_view_module": "@jupyter-widgets/controls",
            "_view_module_version": "1.5.0",
            "_view_name": "HBoxView",
            "box_style": "",
            "children": [
              "IPY_MODEL_656e58e154194dc28e963c6750916d69",
              "IPY_MODEL_23fa1dc4808a47968551cfbde155ece0"
            ],
            "layout": "IPY_MODEL_2428ade3c2624da98d038bea07060e18"
          }
        },
        "656e58e154194dc28e963c6750916d69": {
          "model_module": "@jupyter-widgets/controls",
          "model_name": "CheckboxModel",
          "model_module_version": "1.5.0",
          "state": {
            "_dom_classes": [],
            "_model_module": "@jupyter-widgets/controls",
            "_model_module_version": "1.5.0",
            "_model_name": "CheckboxModel",
            "_view_count": null,
            "_view_module": "@jupyter-widgets/controls",
            "_view_module_version": "1.5.0",
            "_view_name": "CheckboxView",
            "description": "Remove pass votes",
            "description_tooltip": null,
            "disabled": false,
            "indent": true,
            "layout": "IPY_MODEL_1ff6c057e7bc4c33bde83fe8595fbfc5",
            "style": "IPY_MODEL_279abb3e324b46e48619838982625e78",
            "value": false
          }
        },
        "23fa1dc4808a47968551cfbde155ece0": {
          "model_module": "@jupyter-widgets/controls",
          "model_name": "ButtonModel",
          "model_module_version": "1.5.0",
          "state": {
            "_dom_classes": [],
            "_model_module": "@jupyter-widgets/controls",
            "_model_module_version": "1.5.0",
            "_model_name": "ButtonModel",
            "_view_count": null,
            "_view_module": "@jupyter-widgets/controls",
            "_view_module_version": "1.5.0",
            "_view_name": "ButtonView",
            "button_style": "",
            "description": "Re-run Clustering",
            "disabled": false,
            "icon": "",
            "layout": "IPY_MODEL_fbe7ce9400714f1c8f8b4ef0b5884f79",
            "style": "IPY_MODEL_0e33a9de67604913a2481cb138a8f1fb",
            "tooltip": ""
          }
        },
        "2428ade3c2624da98d038bea07060e18": {
          "model_module": "@jupyter-widgets/base",
          "model_name": "LayoutModel",
          "model_module_version": "1.2.0",
          "state": {
            "_model_module": "@jupyter-widgets/base",
            "_model_module_version": "1.2.0",
            "_model_name": "LayoutModel",
            "_view_count": null,
            "_view_module": "@jupyter-widgets/base",
            "_view_module_version": "1.2.0",
            "_view_name": "LayoutView",
            "align_content": null,
            "align_items": null,
            "align_self": null,
            "border": null,
            "bottom": null,
            "display": null,
            "flex": null,
            "flex_flow": null,
            "grid_area": null,
            "grid_auto_columns": null,
            "grid_auto_flow": null,
            "grid_auto_rows": null,
            "grid_column": null,
            "grid_gap": null,
            "grid_row": null,
            "grid_template_areas": null,
            "grid_template_columns": null,
            "grid_template_rows": null,
            "height": null,
            "justify_content": null,
            "justify_items": null,
            "left": null,
            "margin": null,
            "max_height": null,
            "max_width": null,
            "min_height": null,
            "min_width": null,
            "object_fit": null,
            "object_position": null,
            "order": null,
            "overflow": null,
            "overflow_x": null,
            "overflow_y": null,
            "padding": null,
            "right": null,
            "top": null,
            "visibility": null,
            "width": null
          }
        },
        "1ff6c057e7bc4c33bde83fe8595fbfc5": {
          "model_module": "@jupyter-widgets/base",
          "model_name": "LayoutModel",
          "model_module_version": "1.2.0",
          "state": {
            "_model_module": "@jupyter-widgets/base",
            "_model_module_version": "1.2.0",
            "_model_name": "LayoutModel",
            "_view_count": null,
            "_view_module": "@jupyter-widgets/base",
            "_view_module_version": "1.2.0",
            "_view_name": "LayoutView",
            "align_content": null,
            "align_items": null,
            "align_self": null,
            "border": null,
            "bottom": null,
            "display": null,
            "flex": null,
            "flex_flow": null,
            "grid_area": null,
            "grid_auto_columns": null,
            "grid_auto_flow": null,
            "grid_auto_rows": null,
            "grid_column": null,
            "grid_gap": null,
            "grid_row": null,
            "grid_template_areas": null,
            "grid_template_columns": null,
            "grid_template_rows": null,
            "height": null,
            "justify_content": null,
            "justify_items": null,
            "left": null,
            "margin": null,
            "max_height": null,
            "max_width": null,
            "min_height": null,
            "min_width": null,
            "object_fit": null,
            "object_position": null,
            "order": null,
            "overflow": null,
            "overflow_x": null,
            "overflow_y": null,
            "padding": null,
            "right": null,
            "top": null,
            "visibility": null,
            "width": null
          }
        },
        "279abb3e324b46e48619838982625e78": {
          "model_module": "@jupyter-widgets/controls",
          "model_name": "DescriptionStyleModel",
          "model_module_version": "1.5.0",
          "state": {
            "_model_module": "@jupyter-widgets/controls",
            "_model_module_version": "1.5.0",
            "_model_name": "DescriptionStyleModel",
            "_view_count": null,
            "_view_module": "@jupyter-widgets/base",
            "_view_module_version": "1.2.0",
            "_view_name": "StyleView",
            "description_width": ""
          }
        },
        "fbe7ce9400714f1c8f8b4ef0b5884f79": {
          "model_module": "@jupyter-widgets/base",
          "model_name": "LayoutModel",
          "model_module_version": "1.2.0",
          "state": {
            "_model_module": "@jupyter-widgets/base",
            "_model_module_version": "1.2.0",
            "_model_name": "LayoutModel",
            "_view_count": null,
            "_view_module": "@jupyter-widgets/base",
            "_view_module_version": "1.2.0",
            "_view_name": "LayoutView",
            "align_content": null,
            "align_items": null,
            "align_self": null,
            "border": null,
            "bottom": null,
            "display": null,
            "flex": null,
            "flex_flow": null,
            "grid_area": null,
            "grid_auto_columns": null,
            "grid_auto_flow": null,
            "grid_auto_rows": null,
            "grid_column": null,
            "grid_gap": null,
            "grid_row": null,
            "grid_template_areas": null,
            "grid_template_columns": null,
            "grid_template_rows": null,
            "height": null,
            "justify_content": null,
            "justify_items": null,
            "left": null,
            "margin": null,
            "max_height": null,
            "max_width": null,
            "min_height": null,
            "min_width": null,
            "object_fit": null,
            "object_position": null,
            "order": null,
            "overflow": null,
            "overflow_x": null,
            "overflow_y": null,
            "padding": null,
            "right": null,
            "top": null,
            "visibility": null,
            "width": null
          }
        },
        "0e33a9de67604913a2481cb138a8f1fb": {
          "model_module": "@jupyter-widgets/controls",
          "model_name": "ButtonStyleModel",
          "model_module_version": "1.5.0",
          "state": {
            "_model_module": "@jupyter-widgets/controls",
            "_model_module_version": "1.5.0",
            "_model_name": "ButtonStyleModel",
            "_view_count": null,
            "_view_module": "@jupyter-widgets/base",
            "_view_module_version": "1.2.0",
            "_view_name": "StyleView",
            "button_color": null,
            "font_weight": ""
          }
        },
        "a2a50473e06a48f5bfc003fd33c074f4": {
          "model_module": "@jupyter-widgets/output",
          "model_name": "OutputModel",
          "model_module_version": "1.0.0",
          "state": {
            "_dom_classes": [],
            "_model_module": "@jupyter-widgets/output",
            "_model_module_version": "1.0.0",
            "_model_name": "OutputModel",
            "_view_count": null,
            "_view_module": "@jupyter-widgets/output",
            "_view_module_version": "1.0.0",
            "_view_name": "OutputView",
            "layout": "IPY_MODEL_0b116dd195c54574afac6049e139ce17",
            "msg_id": "",
            "outputs": [
              {
                "output_type": "stream",
                "name": "stdout",
                "text": [
                  "Optimal clusters for K=5\n",
                  "Plotting PCA embeddings with K-means, K=5\n",
                  "Calculating convex hulls around clusters...\n",
                  "Hull 0, bounding 10 points\n",
                  "Hull 1, bounding 10 points\n",
                  "Hull 2, bounding 9 points\n",
                  "Hull 3, bounding 18 points\n",
                  "Hull 4, bounding 9 points\n"
                ]
              },
              {
                "output_type": "display_data",
                "data": {
                  "text/plain": "<Figure size 560x400 with 2 Axes>",
                  "image/png": "iVBORw0KGgoAAAANSUhEUgAAAccAAAFZCAYAAADtkOSBAAAAOnRFWHRTb2Z0d2FyZQBNYXRwbG90bGliIHZlcnNpb24zLjEwLjAsIGh0dHBzOi8vbWF0cGxvdGxpYi5vcmcvlHJYcgAAAAlwSFlzAAAMTgAADE4Bf3eMIwAAgiVJREFUeJzt3Xd4XdWZ6P/v3qd39S7Zcu8Vg7FNNWBjTAwJhEwIYEoCyZ2QuZ5kMjO5KXNnJpnMzXAzSWZ+SSaFBO6EBALG1BAbAzaugG2wLVdZvVrlSKeXvX9/KGdHsiRbkk/X+jyPH0vHR+e8x5LOu9da73qXpKqqiiAIgiAIGjnVAQiCIAhCuhHJURAEQRAuIJKjIAiCIFxAJEdBEARBuIBIjoIgCIJwAZEcBUEQBOECIjkKgiAIwgVEchQEQRDSliRJw/7Mnz8/4c+rT/gzCIIgCMJlmDVrFidPnkzqc4qRoyAIgiBcQEp1+ziTyURhYWEqQxCEtODxeLDb7akOQ8hSnZ2dBIPBuD/ujBkz6OnpmfDXd3d3D7ttcFqSJGnYv7/yyits2LBhws85FimfVi0sLKSpqSnVYQhCym3ZsoUnnngi1WEIWaqioiIhj9vT08N//dd/TfjrH3/88UvmADGtKgiCIAhpQCRHQRAEQbiASI6CIAhCWjt16tSQrRx5eXkJf86UrzkKgpC+XnvtNU6ePInb7ebRRx+lpKSESCTCc889R2dnJwaDAZvNxm233ZaUNyxh8klVzahIjoIgjGrevHmsXr2aX/ziF0NuX758OTNmzECSJA4cOMC2bdvYvHlzaoIUhAQQ06qCIIxqypQpOJ3OIbfp9XpmzpypldhXVFTQ29ubgugEIXFEchQE4bLs37+f2bNnpzoMQYgrkRwFQZiwXbt20d3dzU033ZTqUAQhrkRyFARhQvbs2UNNTQ333nsvBoMh1eEIQlyJ5CgIgkbx+1HD4Uveb+/evRw9epT77rsPs9mchMgEIblEtaogCKiKQt93/xX/1heRTCac3/g6lpvW8tJLL3H69Gk8Hg9PP/00RqORzZs388Ybb5Cbm8uvfvUrYKBI55FHHknxqxCE+BHJURAEgrt2DSRGhx01FML9rW9hunolt99++4j3/+Y3v5nkCAUhuURyzBLf//730ev16PUD39I1a9awYMECurq62Lp1Kz6fD7PZzKZNmygqKkpxtEK6UXrdIElEkFBkHXp/ANXjAZst1aEJQkqI5JhF7rrrLkpKSobc9vLLL7N8+XKWLFnC8ePHefHFF/nsZz+bogiFdGVaeRWy00m0uxslHEa5cgWyuIgSJjFRkJPFvF4vLS0tLFq0CIC5c+fidrtHPD9NmNx0xcXkP/lLLF/4PL2fuZfmzQ/Q39+f6rAEIWXEyDGLvPDCCwCUlZVx00034Xa7cTgcyPLANZAkSbhcLtxut+iDKQyjKyvFef99hA4dwmgwcPbsWebNm4fJZEp1aIKQdCI5ZokHH3wQl8tFNBrlzTffZOvWrdxwww2pDku4iAsbeFutVrq7u8nLy+PFF1+kpaUFSZLQ6XSsXbuWadOmJTwmvV6vbc0IBoOcO3eOmTNnotPpEv7cgpBOxLRqlnC5XADodDpWrlxJQ0MDLpeL/v5+FEUBBrrbu91u7b5C6i1fvpy//Mu/5LHHHiMSibBt2zYA1q1bx+c//3kee+wxNm7cyLPPPpu00wnsdjuhUAi73Y7b7aapqSllJyMIQqqI5JiJgv3Q1wx/SnqhUIhAIKD989GjRykpKcFms1FaWsqHH34IQE1NDU6nU0yppokLG3hHo1GtgffgjfXBYDCpcdlsNqLRKJIk4XQ6aW1tpaurK6kxCEKqiWnVTHPmDXjtixD2Q8VKuONJvN4gv/vd77QRYm5uLnfeeScAGzdu5MUXX2TXrl2YTCY2bdqUyuiFizAajUMaeG/fvp3jx4/j9/v55Cc/qSXRRBucmGVZxm63c+7cOcxmM3a7PSkxCEKqieSYSRQF/vDXqCpETbnIjfsIfvAUxoWf4b777kOWZWRZRpIkZFlGURQKCgp4+OGHUx25cAm7du1CluUhDbxvuukmbrrpJmpra9m+fTsPPfRQUtb+YslRVVUkScJgMBAOh6mtrWXOnDkYjcaExyAIqSaSYyZRoxD2EZGNBIMhDOEQ7Y1n6dQdH7YmJEmS9keWZXQ6HTqdTvt48G2D/8Tuf+HfI902+G9h4mINvL1e74gNvKdNm8arr75Ke3s7ZWVlCY/HYDBgMBiIRCJaPFarlb6+Purq6pgxY4ZWAS0I2Uokx0yiMxBddB/KwZ9ilGQUk4vo9PU4bc5hd1UUBVVVh/yJRqNEIpFht6uqqk3JDiZJ0qiFGLGEGEucFybdkRJy7ONLJduRbstWgxt4f+1rXwMG1h4Hb7dpbm7G6/WSm5ublJgkScJut+PxeIYka4fDQXd3Ny0tLVRUVCQlFkFIFZEcM0z77M/iDhThMoTwFSwjai0e8X6JTigjJVhVVYlEIoTD4RGT88UqHkdKxFkz+lUU+Oi/oXEPlCyGpQ+DTk9fX9+QBt52u52f/exnPPDAA2zdupVAIIAsyxiNRj75yU9isVgSF+MF7Ha7VhwUEyvQaW5uxmq1isIuIauJ5JhBQqEQLa2tWKZcR78+td+6WNJKpKwZ/R7+JfI7/wSSBKdfgUAvrPkqTqdzSAPvLVu2aCdbPPTQQ/H/Dx0Hi8Uy4v+bTqfDarVSW1uL2WzGarWmIDpBSDyRHDNIe3s7iqJozcWzXapHv7GEe7mj32mHnsMWjoI5BzMhOPtHWPPVhL62y3WxrjhGo3FIgc5k+XkUJhfxU50hAoEAbW1topQ+jpI1+o3kzULqPoSsBEAJQtGChD5nPJhMJnQ6HdFodMQKWZvNhtvtpr6+nmnTpomiLCHriOSYIdra2gBEG68MI8syHdPuRfJ1UeA/DWXL4Pr0PwtRlmWsViuhUGjUnzmHw0FnZydWq5XS0tIkRygIiSWSYwbw+/10dHSIUWMGUlUVb0hF3vDvyAUFqQ5nXOx2O+3t7UOaAgwmyzIOh4OGhgasVqtoSyhkleytkc8ira2tWkGIkFm8Xi85OTnk5+enOpRxs9lsIxY5DRZrVH727NkhLQwFIdPFNTnecsstLFq0iCVLlnDNNddw6NCheD78pOT1euns7MQmTmTPONFolGg0SmVlZUauyY31qCqz2YyqqtTW1hKNRhMclSAkR1ynVX/3u9+Rk5MDDJwtuHnzZo4cORLPp5hUVFWlubkZvV6f1Rvhs5XH49EawGcik8mEJEkoinLJn7/YvsjGxkamTJmSkRcDgjBYXJNjLDECuN1u8QtymTweDz09PWItJwOFQiEMBkNGF6ro9XosFgvhcHhMo0in00lbWxs2m43CwsIkRCikA4ui57auqgl//eNxjCWe4l6Qc//997Nz504AXn311Xg//KQRGzUaDAZxkZFhVFXF6/Uyffr0EXulZhK73U5XV9eYkmPsBI+6ujosFosoIBMyWtzn6n7961/T2NjIP/3TP/HVrw7f6PzEE09QUVGh/fF4PPEOISv09fXR29srOpBkIJ/Ph8vlysginAvFznYcq1jT8jNnzhAKhRIYmSAkVsIWsh544AF27tw57JDULVu20NTUpP0RV5fDqapKU1OTtuYjZA5FUQiHw1RWVmbFOvFo2zguJjYVW1dXd8lqV0FIV3H77e3t7aWlpUX7fOvWreTn54vmxBPQ09ODx+NJaqNpIT48Hg/FxcVZc9EXm069WNu8kTgcDnp6emhubk5EWIKQcHFbc3S73dx99934/X5kWaawsJCXX35ZjHzGSVEUmpubMZvN4v8uw4TDYWRZTsqZi8liMBgwGo1DznYcC0mScDgc2gke2TDFLEwucUuOU6ZM4cCBA/F6uEmru7sbn883pPJXyAxer5fq6mqMRmOqQ4mb2NmOfX194y4u0ul02Gw2zp07h8ViEevnQkbJ/EWRLBKNRmlqakrKdGptbS3PPPMMTU1NABw7doxXXnllyG3C2Pl8Pux2OwUZ1iJuLBwOx4Q39xuNRmRZ5uzZs4TD4ThHJgiJI5JjGunq6iIYDI65M8lEeTwezp49O2Sqq6SkhOuuu07sT5sARVEIhUJUVVVlRRHOhWIdcCbKZrPh9/tpaGi4rMcRhGTKvt/kDBWJRLT1mURSVZWDBw+yfPnyIW/k+fn5WVNEkmwej4eioiIcDkeqQ0mIeFysOZ1OOjs7aW1tjUNEgpB4Ijmmic7OTkKhUMLXq06ePElBQYGoIo6TcDiMJElZVYRzIZPJhF6vJxKJTPgxYgU6jY2NuN3uOEYnCIkhkmMaCIVCtLS0JLwHZ6z35fz58xP6PJOJ1+uloqIi4VPhqSRJEjab7bLXDGPt6MQJHkImEOc5poHOzk6i0WjCW411dnbi9Xp5+eWXAQgEAhw8eBC/38/MmTMT+tzZyO/3T5o+orGK1cstFjOZTITDYc6ePcvs2bPR68VbkJCexE9migWDwaSMGgFmzpw5JAnu2LGD2bNnU1FRkfDnzjaKohAMBqmurp4U52xarda4FdMMPsFj6tSpYj+vkJZEckyx9vZ2gLhfQZs7PyDvxC9RJT3d8x4mmLfgovc/duwYZ86cIRgMcuDAAd5//33WrVs3ofZhk4HX66WgoACn05nqUJIi3tPGTqeT9vZ2rFYrxcXFcX1sQYgHkRxTyO/309bWFvcqUb2vjZL9f4+kRACV0r1fpfGmp4macofcb+3atdrH8+fPF2uRYxQrTCkvL580o57xnO04FrIs43A4qK+vx2q1Zm2lr5C5REFOCrW1tSHLctyn5Qz99UiqgmJyoZhykKJBDB6xsT9ePB4P5eXlk2pUrdPpsFqtcd3Ir9frMRqNnD17lmAwGLfHFYR4EMkxRXw+H52dnQlZaww5pqLKenTBHuRAD6reQsheGffnmYwCgQAWi4WioqJUh5J0drs97l1uLBYLkUiEc+fOTbgLjyAkgkiOKdLS0oIsywnpqBK1FtO68rv4Cq/AX3wVrVd/D8WUE/fnmWxUVSUQCFBVVTUpinAuNN6zHccqVqDT3NwsOugIaUOsOaaAx+Ohq6srocUcwfyFtF39rwl7/MnI4/GQl5eHy+VKdSgpkahpZEmScLlctLa2YrVas7I/rZB5xMgxyVRVpbm5Gb1en5V9OLNVJBJBVVUqKiomTRHOhSZ6tuNYyLKM1Wrl3LlzeL3euD++IIyXeHdOsv7+fnp7e5Oyr1GIH4/HQ1lZ2aQ+gNpgMGib+BPBaDSi1+vFCR5CWhDJMYlio0aDwTBpRx+ZKBAIYDabxX48ElOUM5jVaiUYDFJXV4eiKAl7HkG4FJEck8jtduN2u8WhrxlEVVX8fj+VlZWi1RkDyfFyGpCPhcPhoLu7W5zgIaSUSI5JoigKTU1NmM1mMWrMILEinNzc3EvfeRJIxrRy7ASPpqYmenp6Ev58gjASkRyTpKenB6/XO6nXrDJNNBqd9EU4F0pkUc5gOp0Oi8VCbW0tfr8/oc8lCCMRyTEJotEozc3Nk6qjSjbweDyUlpaKafBBYkUzydiwH0vEtbW1CZ/KFYQLieSYBN3d3fh8PpEcM0gwGMRoNFJSUpLqUNKKJEkJL8oZzG634/V6aWhoEA0ChKQSyTHBIpEITU1NYutGBlFVFZ/PJ4pwRpHM5AgDBTodHR3aCTaCkAwiOSbY+fPnCYVCGI3GVIcijJHX6yUnJ4e8vLxUh5KWLBZLUkdxsRM8Ghoa6OvrS9rzCpObSI4JFA6HaW5uFqPGDBKNRolGo1RWVooinFGkYnlAr9djMpnECR5C0ojkmECdnZ1Eo1EMBkOqQxHGyOPxUFJSIi5oLsJkMiHLctJP0TCbzUSjUXGCh5AUYkElQUKhEC0tLeJNNsWCwSA7d+7UPo9Go3g8Hu64445hp9uHQiEMBgOlpaXJDjOjxPqghsPhpJ9OYrfbcbvdNDU1UVVVJUb3QsKI5Jgg7e3tKIoiCjpSzGQysX79eu3zEydO0NHRMSwxqqqK1+tlxowZYqQ/Bna7nY6OjqRPsUqShNPppLW1FZvNJk7wEBJGTKsmQCAQoK2tDbvdnupQhAvU1tYybdq0Ybf7fD5cLhf5+fkpiCrz2Gy2lPU+lWUZu93OuXPn8Hg8KYlByH5iWJMAbW1tAJPyQNx0FqscLisrG3J7NBolEomIIpxxuHDknWwGg4FwOExtbS1z5swR1eApFIz281btv6Q6jLgTI8c48/v9dHR0iLXGNHT27FmmTp067BxNj8dDcXGxGOmPQ6xHcCpPzhAneAiJJJJjnLW2tiLLshg1pplwOExjY+OwKdVQKIRerxdFOOMU21qR6rZusRM8WlpaUhqHkH1Ecowjr9dLZ2enGDWmoYaGBnJycnA6ndptsSKcyspKMS03AcnulDOSWIFOc3Mz3d3dKY1FyC4iOcZJ7CBjvV4/bNpOSDydv5Oy3Y8z9eVbKd7398jhoYUaIxXi+Hw+nE6nKMKZoHRIjjCwtm+1WqmtrcXn86U6HCFLxO1dPBAIcMcddzBr1iwWL17MzTffzJkzZ+L18GnP4/HQ09MjTnBIkYIPv4+56yOQ9dja95B74pdD/v3mm28ekhwVRSEcDlNZWSkuZiYonc4mNRqNyLIsTvDIQpIkjfgn0eL6rvC5z32OkydPcuTIETZt2sQjjzwSz4dPW7FRo8FgEG+0KWLwNKHoTKg6I6qsx+Bpuuj9PR4PRUVFOByOJEWYfWJ7HNPltAybzYbP56O+vj5tYhLiQ6/Xo6rqkO9rot9r4/boZrOZDRs2aBl95cqV1NXVxevh01pfXx+9vb1i1JhCnvIbkaMhdIFuUFU8ZdeNet9wOIwsy8O2dAjjYzAYMBgMaTVSczgcdHZ2atuphOwTS5CJvgBK2D7Hf//3f2fTpk3Dbn/iiSd44okntM8zfRNvbNRoMpnSZoppMuqdfR9RaxFG9xkC+Yvwll476n09Hg/V1dUp36uX6SRJwmaz4fV606ar0OATPKxWKy6XK9UhCZfQ3Nw87L0zHUb+CUmO3/72tzlz5gw7duwY9m9btmxhy5Yt2ucVFRWJCCFpenp66O/vF7+EqSbJ9Ffdesm7+Xw+7HY7hYWFSQgq+zkcDnp7e1MdxhB6vR6z2czZs2eZN2+eOGQ8zZWXl9PUdPFlkFSI+6Tt9773PZ5//nlee+21rJ9mVBSF5ubmtCpMEEanKAqhUIiqqiqxNhwnFosl1SGMyGw2o6oqtbW14gQPYULi+g7xxBNP8Jvf/IY//vGP5OTkxPOh01J3dzc+n09cmWYIj8dDYWHhkL2OwuUxmUxpMQU2ErvdTn9/P42NjWkbozB+sYFIogckcZtWbWpq4q//+q+ZNm0aN9xwAzDwi7N///54PUVaiUajNDU1pe2VszBUOBxGkiTKy8tTHUpWMZlM6PV6otFoWnaFcjqdtLW1YbPZxFR6BotEIsOSYaJbBsYtOVZUVEyqq7Ouri6CweCkGCFnA4/Hw9SpU0URTpzFznYMhUJpmRxjJ3jU1dVhsVhE/9wMlKq8IhZeJiASidDc3Jz1a6rZwu/3i5FDAqVLp5zRxLacnDlzhlAolOpwhAwhkuMEdHZ2EgqFRD/ODKAoCoFAgKqqqrQc2WSDVJ7tOFYWi4VwOMy5c+fSPlYhPYjkOE7hcJiWlhbRXDxDeL1eCgoKRBFOAmXKVHVs20lzc3OqQxEygEiO49TR0UE0Gk2bTc/C6CKRCKqqUlFRIbbaJFCsAUa6j8gkScLhcNDc3ExXV1eqwxHSnEiO4xAMBsWoMYN4PB7Ky8vFVpsE0+v12rRlutPpdNhsNs6dOydO8BAuSiTHcWhvbwcG3gyE9BYIBLBYLBQXF6c6lEnBZrNlRHKEP5/gcfbs2YyJWUg+kRzHyO/3a/ulhPSmqip+v18U4SSR3W7PqE40NpsNv98vTvAQRiWS4xi1tbUhy7J4s80AXq+X/Px80e82iTJx6trpdHL+/HlaW1tTHYqQhkRyHAOfz0dnZ6cYNWaASCRCNBoVRThJFqtYzaRRmCRJOJ1OGhsb0655upB6YvFsDFpaWpBlWTSrzgAejwefz8e//uu/cs899zBnzhx+9rOfaWcOKopCZ2cnjz32mFiPjCODwYDRaCQSiaRtJff7779Pc3MzPp+PdevWkZubi06nw2g0snXrVvr6+jAYDBQXF/Pxj3881eEKKSaS4yV4PB66urrEPrkMEAwGiUajnD17dshRaI888oj28fHjx3n77bdFYowzSZK0Rt/pmhwrKyuZO3cu27dvH3L7iRMnkCSJG2+8kTlz5hAIBFIUoZBOxFDoIlRVpaWlBb1eL0aNaU5VVbxeLzU1NWzYsGHUteFDhw6xdOnSJEc3Odjtdm2Eno6KioqGtXyMRCLU1tayfPlyvF4vjY2NYvlEAMTI8aL6+/vp6ekRhR0ZwOv10t7ezrRp0ygrKxvxPm63m7q6Ou68884kRzc5WCyWjFpzhIGZIaPRyPHjx2lra0NVVdasWUNHRwcnT57E7Xbz6KOPUlJSAgwcOLB161btqLpNmzZRVFSU4lchJIIYDo1CVVWam5sxGAyisCPNRaNRent76ejo4Nprrx31focPH2bWrFmiYXyCZEobucEURcHn8+F0Olm3bh3Lly/nD3/4AyUlJTz00EPDLoxffvllli9fzhe/+EVWr17Niy++mKLIhUQTyXEUbrebvr4+8UaaATweD4qi0N/fzw9/+EO+//3v09TUxEsvvcTBgweBgYudw4cPiynVBDKZTOh0urSeWr2QzWZDkiSmTJkCQGFhITabjc7OzmHJ3uv10tLSwqJFiwCYO3cubreb7u7upMctJJ6YVh2Boig0NTVpPSOF9BUMBjEYDFx//fXcfPPN2u1PPvkkK1euZM6cOQDaaQzTp09PVahZT5IkbDYbgUAgJV2k+vv72bdvH6FQCIPBwFVXXonrEuetmkwmioqKaGtro6ysTKt2tlqtnDt3bsh93W43DodDqz+QJAmXy4Xb7SYvLy9RL0tIEZEcR9DT04PX6xUHGadANBplz5499PX1odPpMJlMXHHFFTgcDvbv38/58+fR6XQY1CCrKgFXFZVLbrpkheShQ4dYsmRJQi92Dh06xLZt27QtJKqq8vbbb/PRRx+h1+uxWq088MADCXv+dOBwOOjv78disST9uQ8ePMj06dOZLuto/fWvOVhby4ZIlNCjnwODgYMHD9LS0kIgEOCtt97CYDCwceNGVqxYwYEDBzhy5AiSJLFixQoKCgpwu91Eo9GMW0cV4kMkxwtEo1Gam5szsuNHtpg+fTqlpaVIksSpU6c4cOAAa9eupaKighUrVuBs+gO972/ljWOr+B/W/8Aw82kouGbIY2zevHnI55/4xCcSGnNvby8ffPDBkC0k+/fvp729nS984QvodDo8Hk9CY0gHqSrKCQQCdHd3c/3112P6669Q3dbK/ilV+N7ZhXnnTiK33MKKFStG/Fq73c6NN9447Han00kkEqG3t5fS0lJcLhf9/f0oioIsy6iqitvtFgV7WUqsOV6gu7tbq0QTkk+n01FWVqaN8AoKCvB6vQCUl5cjyzI5p5+hVO7Eo9qQJQnp8K9SGTKqqrJt2zZuvfXWIVtI9uzZw0033aTdZrfbUxVi0qTq98bn82GxWJAlCfn8ebBYsQWDeMwWpM7zF/9iVQW/Hy44civW+KOlpQWv14vNZqO0tJQPP/wQgJqaGpxOp5hSzVJi5DhIJBKhublZ7HNKIydPntRGY7HKwoBk4YPwPKYb29FLClhyUxrj3r17qaysHLKFJBgM4vV6OXHiBDU1NQCsXLmSBQsWpCrMpBh8tmNK9gZLEpFVV6N/+x2IREGnI7ps2ej393oxPfF/0R2vQc3LJfCVr6BOnTJkCvbAgQMcOnSIL33pS2zcuJEXX3yRXbt2YTKZ2LRpU/Jem5BUIjkOcv78eYLBoFhrTBPHjh3D4/GwbNky+vr6UFWVvLw8amd9iZN732Wz4UXInQYr/2fKYuzo6KCmpmbYNK6iKCiKQiQS4ZFHHqG3t5ef//znFBQUaHvmspFOp8NqtRIOh5O6tcNqteL3+1EUhdAjDxOdNg1PdxeGhx5EmTtn1K8zvPoauqPHUJ1OpO4eTP/f/0fgu/8ybAq2r6+Puro6pk+fzsMPP5zol5NRTE6Jdd+5jDXmp+IXSzyJ5Pgn4XBYjBrTyIkTJ2hsbOSKK64gGAxSXFxMYWEhZ8+eZd/xRu7//FewG/4KbEWgS127svr6enp7e/nhD38IDGwreemll7j++usxGo1a2X9OTg5VVVW0tLRkdXKEgenj8+fPJzU5ms1mcnNzqaurY9q0adTNm4vl+HFsSxZf9Ouk7m6QJNDpUE0mpJ6eEe/ncDjo7u7GarVSXl6eiJcgpBmRHP+ks7OTaDSatn0hs5aqIEd8KHrbwJsUcPToURoaGrj66quZMmUK+fn5GI1Gjh07xs6dO7nvvvsuWaKfLCtWrBgyyhi8haStrY0zZ86wYsUK/H4/zc3NrFq1KoXRJofNZtMOBk+IQAD9vn0QjhC5cgX8qSBmxYoV7N+/n5qaGvR6PVddddUlHyqyZg36XbuRentBkgjfun7E+0mShMPhoKmpCavVSm5uaqfyhcQTyREIhUK0tLSIUWOSGd1nKNn/9+j9nQRy53Nu8dfp8ascPXoUp9PJoUOHOHz4MHq9nkceeYTnn38eu93OM888oz3G/fffn7RGDf1tDRx++l/xdXdQdfWtzLntAaSLrKutXbuWF198UWtEsHr16kkx6khoUU40iunb/4Lu9ClAwvDyy/i//c9gs+F0OofsdR0LZf48At/6BvKx46jFxUSvHLmiFQamjC0WC7W1tcybNy8l21WE5BHJEWhvb0dRlJRsXJ7MCg/9H3T+LkJ6B8auDylpfIGqtd/kmmuuGbGY4+tf/3oKohygqioHfvJ1PB1N6ExmTr3+NI6SSipW3DTkfoPXHq1WK3/xF3+R5EhTb/DZjvHeVyo1NqE7fRrVOTBalDrPozteQ3TFFRN+TGXGDJQZM8Z0X5PJRDgcpra2ltmzZ4v3jCw26bdyBAIB2traJkWZfbqRA11EJD06vRGDwUShbWBtLh1PQFGjEbydzUhGC+EoKNEIno6mVIeVlgwGg5ZE4s72p+n3UAiiUUBFTfLvrt1ux+v10tDQIBoEZLH0exdKsra2NoBRjzgSEsPj8dBZdismWcEU7UfWG5Hm3Z3qsEYl6w3kzFhEsL+HiK+PSFRFcZWhXLA3Thhgt9sTkhzVwgJC99+HFAoheb2Eb70VZc7suD/PpTgcDjo6OhK7tiqk1KSeE/D7/XR0dIhRYxJFo1H6+/txOBwU3fYtdC03QW8dVFwFJRevLEylSCSCc82nCJlyINCPY9YV9BtcnDp1iurq6ow8kSKR7HY7XV1dCXnsyPp1RK6/bmDkmKI6AVmWcTgcNDQ0YLVaxWHoWWhSJ8fW1lZkWRajxiTx+/0Eg0HKy8spLS0d+H+fcUuqw7okVVVpaGggpEDljfcMud3r9XLs2DGqq6tFBeMgCe+UkwYdrPR6PSaTibNnzzJv3jxxgZRlJu20qtfrpbOzU1SoJoGiKLjdbiRJYu7cuVRUVGTUBcn58+fp6OjA4XAMuV2SJOx2O3q9nlOnTtHU1EQ0Gk1RlOkllhyzfU3ObDYTjUY5d+6c+N5nmUmZHFVVpaWlBb1en5bFH9kkFArhdrspKChg3rx5GTf95PV6qaurw263j/qzYjKZcDgcNDc3c+rUKQKBQJKjTD9GoxG9Xj8pEobdbsftdtPU1JT1FwOTyaScVvV4PHR3d8f9jXrbtm3odDptVDRv3jyqqqri+hyZIjblqKoqM2bMID8/P+POxoxEItTW1g4ckXWJ5hA6nQ6XyzVkmnUyN6SOne3o9/uzfruDJEk4nU5aW1uxWq0UFhamOiQhDrL7p3YEqqrS3NyMwWBIyKhx1apVk37tKRKJ0N/fT05ODlOnTs3IE05i64x+v3/MRxLFplmDwSCnTp2irKyM8vLyjJpCjie73U5fX9+k2CwvyzJ2u526ujosFoso8ssCcU2Ojz/+ONu2baO+vl47XDbd9PX10dvbK5qLJ4jP5yMcDlNVVUVJSUnGTlvH1hknclafXq/nzJkz7Nq1C71eT0VFBXfffTddXV1s3bpVOxJt06ZNFBUVJSD69GC1Wi85zVhbW8uBAwdYs2YNFRUVdHV1cejQISKRCABLly6luLg4GeFeNoPBoDUImDNnDkajMdUhCZchru9cd911F7t372bKlCnxfNi4iY0aY8fqJMK+fft47bXX2L9//6Rae4oV3ej1eubNm0dZWVnGJsaxrDNezJEjR5Blmdtvv51rr72W0tJSurq6ePnll1m+fDlf/OIXWb16NS+++GICok8fserN2tpannnmGZqahjZN8Hg8nD17lvz8fGDg93P37t0sWLCA9evXs2rVKvbv368lykxgtVoJBoPU1dWJPbAZLq7vXtdee+2Qk9DTTU9PD/39/Qmb5lm7di233nor69atw2QysX///oQ8T7oJBoO43W6KioqYO3duRk8pjWed8WJfv2jRIm2a1eVycezYMZqbm5k/fz4Ac+fOxe12093dHe+XkDZMJhOBQGBIAoxRVZWDBw+yfPly7QIkFAoRDAa1U0ucTicGg4HW1takx345Yid4tLS0pDoU4TIk/dL+iSeeoKKiQvvj8XiS8ryKotDc3IzZbE7YqDG2LUSWZWbPnk1nZ2dCniddqKpKf38/kUiEWbNmMWXKlIwuvhi8zjjRLT4ejwej0cjx48f5wx/+wPbt2+nu7taS7alTp/D7/UiShMvlwu12x/lVpA9Zljl27BgLFy4cNgI/efIkBQUFQ4qWTCYTZrOZhoYGALq6uujv78fr9SY17ssVK9Bpbm7O6oufbJf05Lhlyxaampq0P8kaZXR3d+P1ehNWHBKJRAiFQtrn9fX1WV2YE4lE6O3txel0Mn/+fPLy8jKuGvVCo+1nHA9FUfD5fDidTtatW8fy5cvZs2cPkiSh0+kIBAIcO3aM8+fPxzHy9LR3717KysqGXWj09vbS2NiojaIHu+aaa6itreX111/n1KlTFBQUZOT0fOzQ59raWnw+X6rDESYgcy/zxyEajWrnsMWDuesjzF0fErZX4C29FiSJQCDA7t27tQIEu90+pvPkMpHX6yUajTJ16lSKi4szPinC5a8zxthsNiRJ0tbdc3NztUbVfr8fq9VKJBLh9OnTdHd3X1YTiqeeegqPx4MkSZhMJtavX09paSmvvfYaJ0+exO128+ijj6bkcOWOjg5qamq4/fbbqaurG/JvnZ2deL1eXn75ZWCg+f/Bgwfx+/3MnDmT66+/Xrvvq6++mhF7Y6PRKHv27KGvrw+dTofJZOKKK65AlmWtQKexsZGnnnqKW265hZUrV6Y6ZOESJkVy7OrqIhgMxqVC1dK+n5ID/wtJiQAS3XM20zv7fux2O+vXj3xQaraI9UW12WxUV1dnTXehy11nHMxkMlFUVERbWxtlZWV4PB48Hg8FBQVDTqrv7+/HaDRqvX0ncuF29913azMhNTU1vPjiizz22GPMmzeP1atX84tf/OKyXsvlqK+vp7e3l//39NOE/X6C0SgH+/q0BDhz5kztvjt27GD27NlUVFTg9/u1moCzZ8+i0+kyplp1+vTplJaWIkkSp06d4sCBA6xduxa3283p06fZvXv3kNctpLe4JsdHH32UV155hba2NtatW4fD4eDMmTPxfIpxi0QiNDc3x23U6Gh8A0mNEjXnIUV8OOtfpnf2/XF57HQWCAQIBAKUlpZm1d69iexnjAl7emn+41MEu1txzVpO8eo7kGQdK1as4MCBAxw5cgRJklixYgVWq3XYSfWrVq0iFAppTQPG211l8BJBMBjUPk6HavEVK1awbPoMuj77Wfy153h9zWpmT51K6SWSw9mzZ6mvr0dVVZxOJ2vWrMmImQmdTkdZWZn2eUFBASdOnAAGCnR27drFwoULxSkeGSSuyfEnP/lJPB8uLjo7OwmFQnFLjhFLISgKKBGkSICIc3pcHjddxYpu9Ho9c+bMmdC+v3R2OfsZG1/9Gd7GE8gGE50HXsPgyCN/yQ3Y7XZuvPHGYfcf7aT6cDjMmTNn6OvrIxKJjKuo6YUXXtCmLT/96U+P+zXEg+LzEXj1NdRQCPNNa9H9ae+m/5VXiNQ3oDocqLKE/u234db1cMGF1dq1a7WPFyxYwIIFC5IafyKcPHlSq9xvbm7GaDQiy/KQugQhvWX1tGo4HKalpSWu03+9M+/F1HMCc9eHRGyldC7+67g9droJh8PalGBVVVXWbWq+3HXGQEcDOpMFWW9EDYcIdDROKA6DwYDL5cLv91NTU8O0adPG/DN75513AnD48GG2b9/OvffeO6EYJkqNROj54pcIf/QRAJ6nnsbwnz+iT5IINDViCYdQVQsbDr6HFIkyGUpTjh07hsfjYcWKFfj9fo4dO8aNN96Ioij09/cn5hBoIe6yOjl2dHQQjUYvex1pMMXooHXN95EiflSdeeBU8izk8XhQVZXp06dTUFCQEVNb4xGPdUb7lHkc6YoS0ZmQbCqWoBNrTw+5ubns3LmTQCCAJEno9XqWL19+0eplWZYxGo2Ew2GOHz/O1KlTx/X/vmTJEl555RV8Pl/cZknGIlLfQPjoR6g5LkLBILS10fzKKxzQ6/HqdBjW3YLF52PVhx9h/uQnh40as82JEydoamrihhtuQK/X09HRgd/v5/XXXwcGpr/b29sJBoPcdNNNKY5WuJisTY7BYDDuo8bBVH129ouMRqP09fXhdDqprq7Oyr6Yl7POOFj5us1Ie15C6W3DMX0p3pwp7N+/n/Xr17N69WptpN3U1KTdfik2m41wOMzZs2fp7++nqqpqxGnWQCBAOBzWtp2cOHECi8WS9O+X7HKCTo/i9aIoCnpZwlpSyuz8vIHiFL+f0wcP8s706dx4a3YXrJ04cYL6+npuuOEG7XtfVlamje5hoIOW2WxmxowZqKqadRed2SRrk2Ns4TuTN6UnW+ww4oqKij8fRpyFLmedcTCd0Uzl9Xdrn/fW1mofD56CHu86U2ya9fz583i9Xuz+Dhp2PovOYGL+xz9P7tQ5BAIBnn32WSKRCJIkYbVa+fSnP40kSbz00kucPn0aj8fD008/jdFo5PHHH7+s1zoaXUEBzq/9HV3/+5/QhUOEN25EWjCfstibvtVK/sKF1OzenZDnTzqfD+PPfo7ueA3KrJkEP/dZsNvx+XwcPnwYm83Gm2++CQzMBtxyy/DDvM1mM21tbdhstjGf4DHa9px02LaTrbIycwQCAdra2jK6jVkyxdZCTCYTc+fOzYh9ZRMVr/2Mg+3bt0+7GLvuuusueftYyLKMy+Wit+ksJ377XfR6PTpJYu9/fJWb/+H/kZOTw2c/+9kRv/b222+f4CuZGMuGDZwvKsKg02EYYaZmcHFKpjP85hn0e/agWqzoDhzEaLUSeuxRrFYrn/rUpy759bH9jeFwmHPnzo35BI/Rtuekw7adbJWVybG1tRVZlrN25BNPoVAIr9dLUVERlZWVcV2fTTfx3M84WOwN79y5cxw5ckRLhKPdPh6StwdJllB0RnRGAxG/B193Gy7rjLjFf7lCoRBhVcUywlrn4OKUbCDX16PqDWAyoUYiyPX1E3ocg8GA0WjkzJkzzJs375LFbqNtz0mHbTvZKvP6Ml2Cz+ejs7MzazaoJ4qqqng8HoLBIDNmzKC6ujqrE2M8+qZeSnV1NR0dHUP2HF7s9rEwF1UiyzrUoJeAuxuDzYWtoOzSX5hEsdd14fpZrDjluuuuy5rljegVVyBFIkh9fUjhMNErrpjwY1ksFm0EKU7wSD/Z8RP7J6+99hrHjh3D6/Wybt06rTqwpaWFjz76CFVVUVWVOXPmUF1dneJoUycbDiMer3isM0Z8fUS8fRhzi5H1BkKhENFoVCuCaWpqwmg0IknSkE4vsdsnshXGlFvM1I9/ic6DrxNRJSpu+CQ6U3oVSY10NNtIxSnZILLxNjCbkGtOoMyeRWSEfavj4XA46O3tpbm5mcrKyjhFKcRDViXH6upqrFYrBw4c0G5TVZV9+/Zx4403kpOTg8fj4dVXX6WioiKrR0qjyZbDiMcjHuuMfWcO0/jyT1CjEUz5pVR/8suEVR3vvvsu0WhU62967bXXEg6HR7x9opWJtsrZ2Cpno6oqvb299PT0DDnNIlVUVSX41lv4D76HubQUrhyYOh1PcUrGkWUit9wCcXotkiThcDi0Ll4XHu0lpE7WJEdVVZFledTF7VjFYCQSwWQyTYqkMFis6MZisTBz5sxJU6wUr3XGlu1PAaCzOgicb6br8FsUr/rYqG/4iUgEkiRhsVhoaGjA6XSmfKrS99+/of8HP0QKBMjR6Qh96XGiK68ac3GKMECn02Gz2bQCnWTuUxVGlzXJsb+/n56enmHTZpIksWrVKnbv3o1erycUCrFmzZpJVawTDAbx+XyUlJRQUVGR8jfVZInXfkYAJRxCknXa6E+NpKYNmNlsxu1209bWlvIKUN/WrWAwEDWZ0Hs96N9+m+jK7DyJJtFiDSDO1pxgakMDciiE+YbrtVZ8o23PSea2nckmK94lVVWlubkZg8EwbOpKURSOHTvGmjVrKCoqoquri127dnHrrbdiMplSFHFyxIpuZFlm1qxZ5ObmTopNx5FIhDfeeINTp04RjUbJy8tj1apV4+5aM1jR1R+j7Z1nUaJh9BYHuQvWJPhVjM5ut9PS0kJubm5KC890JSVE6uqRTCbUqIJSUJCyWLKBzWJB+sd/ovfESQx6Pd5f/Yr8X/8KXUHBqNtzkr1tZzLJiuTodrvp6+sbcXTQ29tLIBCg6E9XYPn5+VitVnp6erJ6w2ys6CYvL48pU6Zk/YXAYNu3bycSibBq1Srt/ERgwl1rAAquuBlr+XTCfd1Yy2dgsOckKvxL0ul06HQ6GhsbmT17dsoueJxf/Rt6//rLRM6cJTRjOpG770pJHNlAVVWira04jh0nbLejs1qhu4fQ/gNYbtuQ6vAuzhuGn9SkOoohotEof//3f893v/vdCT9GxidHRVFoamrCZDKN+CZhtVrx+/243W5cLhf9/f14PJ7LOu093WXjYcRjFQqFOHToEOvWrQMG9pPF1hovp2sNgLV0GpROi0+gl8lms9Hb20tXVxcFKRqx6SsqyH/mN3S2tNDa3Iwri5tHxFskEiEUChGJRLSjyixmM7LRiEkCWVUAFTnLTsFJFp1Ox86dOy/rMTI3Obob4f2fEvS4iVhXYalcysGDB2lpaSEQCPDWW29hMBjYuHEjK1asYM+ePUiShKqqLFu2LCv3QWbrYcTj0d3djcFg4NixY/T09KDT6ViwYIE2S3A5XWvSiSRJ2Gw2rTgnVdslJEnC6nJBc3NKnj8TKIpCOBwmFApp+xn1ej12ux2Hw4HNZsNsNmM0GvH9w7fo+/Z3oK8fyx2bMK66mjNnzvDmm29qhyhs3Lgxq2e94mXDhg388z//Mw8++OCQAsSxdgDLzOQY8sKzn0Tta0IXDjNb/xrNBb8ctQvHlClTsr6TRLYeRjxe3d3deL1eCgoKuPLKK+np6WHnzp1s2LABs9kcl6416cJoNOL3+2lpaWHq1Kkpi8NisSDLMtFodNL+3MWoqjpkVAhovW+Li4ux2+2YzeZRK+atG27FsvZG1HAY2W7H7/fz/PPPs3nzZoqKiqivr+f555/nC1/4QrJfWsb53//7fwPw9a9/XRsYSZJENBod09dnZnLsPgueNhRzPiGCGKNeTL0n8VnG1sQ3m8QOIzYYDFl5GPF4eL1eenp6ALRkkZubi91up7e3d8jVdnV1Ne+99x7BYDCj12MdDgft7e3k5+enbKkgthUhFApNuuQYjUYH2ueFw9r0qNFoJCcnB4fDgcViwWw2j6tCXDKZkP70M9nT04PFYtFqJqZMmYLb7aa1tZXS0tL4v6AscrldhzIzOTpKQWdEDnswoRBVovgMky8xZvthxOMR289osVgoLi6mra2NsrIyPB4PHo8Hp9MZt6416SR2DmR9fT3z5s1L2f5dp9NJS0tLVndbunB6VFVVbXq0qKhoyPRovNb58/Ly8Pv9NDY2UllZycmTJwmFQvT29orkOAbvv/8+x48f57777qO3txe/3z/m/7fMTI62Qrj9v5De+iaGaIjgokfx6ipQPR5sNtukKEDJ9sOIxyIaCnLmzWfxtjdB8QwieVW4XC5WrFjBgQMHOHLkCJIksWLFClRVZffu3XHrWpNOYtXXHR0dKVuLstvt2sgpGwyeHg2Hw0iShCRJmM1mCgsLcTgcmM1mzGZzQi9IzGYzd999Nzt27CAUClFRUUFhYeGka2IyEf/5n//JT37yEzweD/fddx9dXV088sgjYy7UyczkCDD1Wtg88CLtwLxAgLq6Onp7e3E6nVk7vTMZDiMeq8P/73s0HdxBVFGIRqNMueOL4FqM3W7nxhtvHHb/TGlfNtp+zNbWVj788MOBQ4X1eq644gptn6bdbqepqYnc3NyUTBPHRoyZeoBvNBrVRoWxJG8wGHA6nTidTm16NBUtJ6urq7Ve0JFIhH/7t38b8zmQk9lPf/pT9u3bx6pVqwCYPn06nZ2dY/76zE2OFzCbzcycOZOWlhZaWlqwWCwZvZY0kslyGPFYtX20B53ZSjSiIPn78NYfwzVjcarDGpfBibC0tJSenp4h+zHfe+89/vCHP7By5Uo++OAD1q5di8vloqOjg3379nHrrbcCA2/kfr+fpqYmpk2blvQEZTQaMZlMhMPhtJ+qVlVVS4Sx4gxZlrHZbBQUFGjTo6NtD0u2/v5+bT35nXfeobq6Oi1666Y7k8k0bPAwnrXfrEmOMFAYUFlZqfUpDIfDWTHNOpkOIx4Pe3EV3edqUCQdSBLGvPQrb9+2bZu2aR8GDqetqqrSkiIMJLbly5fz61//ekhjAo/HQ2trKzqdDr/fj8lk0gquioqK8Hq9dHd3a2+Udrudzs5OCgoKkl6YJUkSTqeT7u7uEZPj5XQnulyDp0djsZpMJvLy8nA6ndr0aKovNmNrizqdjilTpmhv5Dt37qShoQFFUaisrORjH/tYSuPMFIWFhZw6dUp7/3/yySepqqoa89dnVXKMycvLw2q1cu7cOdxuNw6HI+U/+BM1mQ4jHq8rHvpfvPvjb9Lf0UTewtXkL7o21SGNaNWqVcMSwUjdegavI+3du5fGxkZtas9isRAMBjl//jwFBQU0NzcTiUTwer1acpRlGYvFQn19PfPnz7/oz3wkEuG5556js7MTg8GAzWbjtttuIy8vj5/97GfaNgRFUejs7OSxxx6juLj4oq/T6XSOOm11Od2JxkNRFEKhkFY0E0vGdrsdl8ulTY+m2+g2EAjw+uuv4/f7Aairq+PGG29EkiSRDCfo+9//Pn/xF3/BiRMnqKysxOl08tJLL43567MyOcLANOusWbNobm6mpaUFm82Wdr8QF6OqKl6vF1VVmTFjBvn5+Rk/Ao43W2E55R//n0Sj0YybQh/8s1hTU4Pb7SY3N1fbhxnbgmK32zl06BB6vZ7Vq1dz5MgRrTWgLMscPnyYY8eOaSPSY8eO0djYyAsvvMCjjz560QKd5cuXM2PGDCRJ4sCBA2zbto3NmzfzyCOPaPc5fvw4b7/99iUTI3DRStXL7U40kpGmR2N7CvPy8rQ9hWazOe1/d9ra2vD7/dosQ1tbW9Z38kq0GTNmsH//fk6ePImqqsyePXtcg6SsTY4wMM1aVVWF3W6ntraWUCiUEUc1TcbDiCciEong8/nS/nu6b98+YGBGY/Hixdr3c3C3nnXr1vHUU09x5MgRFi9eTGNjI2vXrkWWZfbv3084HKaiokJLUtu2bSMUCnH99dcPeQOtrKxk5syZQ6ZtR/KjH/0IvV7Pjh07AJg/fz69vb2cPn2aN998E1VVtZHX0qVLx/Q6L9UM4HK7E0UiEcLh8LA9hbm5uRPeU5guYq8rHA5jMBiQZVnMEl2mO+64g61btzJ37txht41F5v0UTUBeXh4Wi4Vz585p1azpWgodO4x4ypQpFBcXp22c6SAQCGjneKartWvXYrPZUBSFDz/8kP3792uJ4cJuPR6Ph/b2durq6vB6vbz88sva9OahQ4fw+/3MmzcPGHgzzcvLGzayiG0WB2hvb2fKlCmjjpruuusubWT5wgsvMGvWLK0bS3FxMQ0NDfzyl79kzpw5Y3qtsizjcDiG7CcdbDzdiQbvKYxtv9HpdNjtdoqLi7FarXHfU5gK4XCY5uZmurq6yMvLo6urC0VRWLVqlbgovkwNDQ3Dbjt79uyYv35SJEcYuKqdPXs2TU1NtLW1YbVa02qadbIeRnw5fD5fqkO4pFh/W1mWmT17Nq+88or2b96eTlr3vITcf552aQo2mw2DwUBHR4dWKelwOAiFQsyfP5+WlhZeeeUVbVQXCAR47bXXho1IYWB60e12093dfcnT5Xft2kV3dzf33XcfR48e1UacH330EXq9flxTe06nk76+votuMbqwO9FoLddinWEGT4+m84XQeKiqSnd3Nw0NDYTDYVwuF7m5uVpl6rRp6dHgPl2cOXOGmTNnDrv9//yf/8OXv/zlIbf95Cc/4cc//jGnTp1i2bJl2u1ut5v58+eP+TknTXKEodOs586dS5tp1sl6GPHl6u/vT5v/K1VVifj6kPVGdKaBxBCJRFAUBaPRSMTv4aPt27BEwnR8uBvHzOXUvfoLzkRzCMuFKLooNouJ66+/fljxTmzq88orr9Ru83q9o45IY8xmM42NjTidzhGn6F544QV8Ph/RaJRHHnkEo9HIXXfdxW9/+1uMRiNut5sbb7xxXOs0VqsVqasLdDr404VBbPQXS5gNDQ0YDAatHzAMVOy6XC5tetRisaTN9zbeAoEAjY2NdHV1YbVasVqt2r8ZjUbtAkH4s1hi/M53vsPf/u3f4vf7ycnJ4fXXXx+WHNevX8/s2bP5/Oc/z//9v/9Xu93pdLJo0aIxP2d2/vRdhCRJ2pmOtbW1KZ1mnayHEceDqqr09fWlxehfVaI0vvpz3CcOIOl0lN98P7kLVhMIBNi9ezeqqhJyn0fv76W0/wxN7e/TXtdJQMlHkiXMaoiijiO8fNZL7mcfHfb4a9euHXbbxUakMUajkVAoRGtr67AS9gcffJDjx4/z4YcfUlVVxWuvvcZf/MVf8M4773DPPfcQjUZ5/vnnOXDgAMuXLx/yBj7q/0MoRPjr36Dw7beRjUaCjz5KePUqvF4v+/bt06ZHjUYj11xzDeXl5dhsNiwWS8ZPj46Foih0dHTQ1NQEQE5OzrDXrNPpCAaDGdtMIRFiF31/8zd/w9/+7d8CaNXbI4kdNFFT8+czJt1ut7ZNZqwmXXKMsVgszJkzh8bGRtra2pJezTqZDyOOh2AwSDgcTosOQX1nDuM+dRC91Y4ajdD8x1/jnLEUu93O+vXrURWFY//+BWSjCdmoJ+zpZWmOgsfdgr+9AVlnQFWi6Cxjm74cPCIFqK+vH3XPoN1up7W1BamnGYMMBbOWoDdZkCSJN954g9zcXGpra+nq6uLHP/7xQKehKVP4/e9/z/Llyzlz5gytra1Mnz79knEF3vgjkf37weUiGgig//FP6J4zG6vTyZ133jlkejRTt1ZNlNfrpb6+XjtSbrRiG51ORzQaJRqNZu3I+ULNzc3DLgQGtyLcu3cvwLgPLl6/fj3PPPMMer2exYsHmoPcf//92mkdlzI5/vdHEdtsa7fbqaur05oGJNpkPow4XmLTcenwf6eE/EhISLIOkFBDAZRwEJ15YLQlyTKWokp8bedQ9UaQZMyFFeQtuYHWt35LuO88uQvWYHxt37DHjvg9tO78DYH2RhzTFlG85o4hI1IYSIBXXXUVwIhnms6X2mg6eQCDwYCjdApX/uX3MJosfPOb3wQG3nxOnDjB3XffzQ9/+EM6Ozv5xCc+QXd3NwcOHBjzYcrKn9aAjWYziqxD8npYPG8epknczSUSidDW1kZLSwt6vR6Xy3XRn9nY0UrhcHjSJMfy8nJtNB1P7e3t5OTk8Lvf/Y5Nmzbxve99j2XLlonkOFaSJFFQUKBNs8aaBkxkmvX999+nubkZn8/HunXryM3NJRgMao1uYz/0fr+fL3zhCyk7wT0beL3etEiMAPbqhehtLiJeNwDOGcvQ23OG3Kfy9s/TsuP/EXZ3kjPvalxzrkSSJKZ87PN/vtMIybH5j0/Rd/p9ZL2RzvdeR2exUXjlraNuoB98pqkSCdO68xk69v4ByWjBaHfS31pP/eE97DrRpB3pk5ubq43sNm7cyHPPPae9SW/YsGHM3XbM112L9xe/ROntRYeKZdOmSZ0Y3W439fX1+P3+cTciEeuOf3b11Vfzzjvv8I1vfGPMiQ3QOiK98847rF+/HoPBkLr2cadPn+aBBx7g/PnzuFwunnzyyXFVB6WS1WrVplnb29ux2+3j3mdUWVnJ3Llz2b59u3abyWRi/fr1WvHB+fPncbvdIjFepnRZbwQw2FxMv/dr9Nd+iM5kwTlj6bDEbXTmMfXOL477sf1t59AZzMhGE2o0gr/t3Ji/tmPvNroP70RVoqgBL6G+HvQmMzlOO48+OnxtE2DhwoUsXLhw3HEC6IqLyX/61wT37EXOcWFas2ZCj5PpQqEQzc3NdHR0YDabycnJGfdjxN7YBXj77beRJIl//Md/xOl08uUvf1kryLnmmmuGvN8OtmDBAm699VZqamr413/913FXt8e1CuXRRx/lc5/7HKdOneKrX/0qmzdvjufDJ5xer2fq1KnMmDEDv9+P1+sd19cXFRUNK1yIFY6oqsqcOXOoq6sbUl4sjF80GsXj8aRNcgQw2HPIW3QtrtkrkHTxu+a0V80lGg4Q8XtAVbFVzR3y77W1tTzzzDPatNSOHTt46aWXeP3119nf5KHLNQ2dNQeASMBD4eylFC+8Om7xXUhXUID1Y7djvvZapCzZdjFWqqpy/vx5jh49yvnz57W+reMlSZJIjhf48MMPAfjKV76idUEKhUIXbUH45JNP8uijj7Jz507tWLfvfOc7Y37OuP0Wd3R08N577/HGG28A8IlPfIK//Mu/5MyZM8yYMSNeT5Nw8ZxmvfAw4vb2dvx+P7NmzUpA5JOH3+9P+83/8VJ246fRWxz4OxtwTF1I3qI/b9fweDycPXt22D7GpUuXUlFRQds7v6fzYB3oDRiceVRedQvLNv8dsjy5imGSIdY0vLu7G5vNdlm1C7IsX7S70WS0cOHCcZ8XajabueOOO7TPy8vLKS8vH/PXxy05NjY2Ulpaqs3pSpJEVVUVDQ0NQ5LjE088wRNPPKF93tXVxZYtW+IVRlzFNub7fD6tpdNYVFRU8NOf/pRgMKjt24ptalZVddi+HGF8fD5fWk2rxsvBgwcvfmV7+j3443vapyUlJdqpHMePH9f2yh49enRgCklV8DUrBPs6cRaVkX+kk//+8leS8EomD0VR8Pv99Pf3I0lSXFq+RSIRDAZD0k4tyVayLI9YlxDrw3spSS/I2bJly5BkWFFRMSRZppvYVEldXR06ne6SV4TRaJSXXnqJRx55hKVLl2pbDUKhEP/2b//GZz/7WbHeeJli+1OTUVmcTN/5znf4u7/7uzHd98SJE4TDYRYuXMiOHTuYPXs2FRUV7Nixg0AggCzLOJ1OFi/+EoqisHDhQtGOLM76+/upr6/H6/Vit9vjVl0aa8w+0bXf0fzud7+L6+Olu/7+fu1jv9/Pr3/96zEnRohjcqysrKS1tZVIJIJer0dVVRoaGsZ1flY6kiSJwsLCMU2zxg4j1uv1TJkyZcgevKNHj1JcXCwS42VKp83/8TD4vMeysjLtdyYajXL48GHtPMecnByuvnpgrbC3t1drTH6hlStXYrPZUFWV06dP884777B69WqtMlW4fJFIhJaWFlpbWzEajRMquLmY2PmdiqJMiqWDRBl88Wyz2diyZQtXXXUVX/nK2GZP4pYci4qKWLZsGU8//TSbN2/m97//PRUVFRm13ngxNpuNuXPn0tDQQEdHBw6zjtz2d5CUEP0l19AbNlJTU8P58+fxer385je/wWg08vjjjwMDjaNFIc7li53Vl02joNh5j9/5zne0i8kjR44AcNtttyFJknbOH0BnZ6fWmBwG9nwePHgQv9+vtdmSJIlZs2Zx+PBh7WxD4fKoqkpvby/19fWEQqGEnRMbO9kkEolkzUVgOjhx4gTnz58f8/3jOq36k5/8hM2bN/Ptb38bp9PJL3/5y3g+fMrp9Xqqq6uxW83ot96HzV2DBNhP/DfG9b9i6ac/Peqaw8MPP5zcYLNULEmkyx7HRIhEItTW1rJp0ybtdQ6ehZg5c+aQJsyxadWysjICgYB24dDY2KidXCGS4+UJBoM0NTVx/vx5zGbzmPd+ToQkSUiSJJLjZRrcjjMajaKqKj/84Q/H/PVxTY6zZ8/WWv1kK0mSKNJ7UHynCRhzUFUVq9qPXdeKZBAjw0RLxOb/2tpaDhw4wJo1a6ioqCAQCLBv3z48Hg86nY7ly5cPOQoq3mLnPRYUFGj7YY1GI8ePH6etrQ1ZVZjq1FFSUoK9euGor19RFN5++23tHMZYD9PYhv7BnnrqKTweD5IkaXtxCwsLee655+js7MRgMGCz2bjtttvIm8Qb+WM1Bw0NDSiKkrQ+zLGGIcLEHT58WPtYr9dTUlIieqsmnNmFrDNg0amokh45LIFZVJYlQ7zXG0faDnHkyBHy8/O5/vrr6erqYvfu3dx+++0JeVMcfN7jT3/6U/bv38/ChQvx+Xw4nU5mleZx7Lkfcdg1n5kHXqTkipspWXPHsMeIWbdu3bDncLvdw0aOd999tzbCrKmp4cUXX+SRRx5h+fLlzJgxA0mSOHDgANu2bcu4/crx4vP5aGhooLe3d0JNQS6X6JJzeaZMmXJZXy+S40TYi+HGf0Z68+tIih+WPQyVidtYLQyIRqN4vd4xnRAxFqqqcvDgQZYvX86hQ4e02xsbG7ntttsAyM/Px2Kx0NHRoR0MHE+DT9fo6+ujs7MTm8020FpuyhQ6dj+PyXceozNM0JxL1wd/HJYcx+LC5Dh4zTZ2uoFerx8yXVtRUcGePXsm8KoyWzQa1fqhyrI84ukZiSZJ0qinTggXt3Tp8A5Vg33wwQdjehyRHCdq4adgzh2gRsGYXVsK0lUgEEBRlLgVQZw8eZKCgoIh04bBYBBFUYas8dlstss+WDni68ffdg69PRdLUeXAbRecrmGz2cjNzcVkMlFUVERbWxt6k42QzkxINmIM9qGzTOxnbaQ1xxdeeIG6ujoAPv3pTw/79/379zN79uwJPV+m6uvro76+Hp/PF9ftGeOl0+lEI4AJ+ta3vkV3d/ewA6Nra2vHtUQgkuPlMGRPxWQmuNwENdjFtkPEW8jdSe1v/kVrAVd6w6fIX3rjsNM1zGazdrrGihUrOHDgAIGAQrjkKsq6j2PSqVSsf2hCMYyUHO+8805gYG1m+/bt3Hvvvdq/7dq1i+7ubu6///4JPV+mCYfDNDc3097ejslkivv2jPGKnesojN9rr73GzTffPOzw766uLl5//XU2bdo0pscRyVHIGLECmXgYbTvEggULtK0TsdHj5U7l9nz0LmFPLwZ7DkooSPvuF8hbcoN23mPMd77zHex2OzBwDNWNN94IgKooRLxudGYrsmH8537GKh9Hs2TJEl555RV8Ph9Wq5U9e/ZQU1PD/fffn/R1tmRTVZXu7m4aGhoIh8MpO/j8QmLkOHEHDhzgxz/+8bDbP/7xj/P1r399zI8jkqOQES5383/Y6ybsPo8prxSd2TrqdoiKigq6uro4c+YMCxcupKurC7/ff3nVqn/qZaqqKqqqIOvG9xokWcbgmHjBlyRJQ0aOgUCAQ4cO8cYbb3DPPfcAYDQa+e///m/6+vrw+XysWbMmq/aSjiQQCNDY2EhXVxdWqzVua9nxEGsEEI1G0/5gaH/Eye9Pjv0oqeE+F7dY4OKFTOO58BHJUcgIoVCIYDCI0+nUbrtwC8b+/fs5f/48Op0OvV7P0qVLyc/Px9NwgvqtP0KNhtGZbVR/8iuY80tHfa4lS5awd+9eXn75ZWRZZuXKlZc1mshbdA3umn2E3J0gyZTe+BdJK/BQFQV//VFaG46QZ16PrbCcjo4Odu7ciV6v5/XXXycvLw+LxcLy5cvZtm0bLpeLd955h6NHj2I2m3nkkUeSEmuyKIpCR0eHdpJJKgpuLkWWZVRVJRKJpH1yTDfhcJi+vr4h7xUwULU9nu0xIjkKGSE2xRR7ExtpC0ZFRQUrVqxAlmWam5t59913+djHPkbb279DiYSQTTYi3j46979C5Yahb/iD1x7NZjM33HBD3GI32HOYcd83CHQ1o7flYHQmb99g61u/5fwHO5Blmc53t3LNl3/IW2+9w+bNm3njjTdYuXIlc+bM4Sc/+QmyLPPNb34Tt9vNz3/+czZv3qxN82YLr9dLfX09/f392Gy2tJ82DofDmEzjn0qfzD71qU9x33338eSTT2rN23t6enj44Yf51Kc+NebHEclRyAiDN/+PtgVj8HE0BQUF+P1+PB4P4WAAkNDrdQRRCfr9hMPhpL4xykYT1tJpl75jHKnRKN1H3kI2mtEbTYR9Hna+9hKV1QsoKysbct9NmzbxzDPP8Oabb+Lz+di4cWNWJcZIJKJtz9Dr9bhcrrQbLV7oUmvFwsj+1//6Xzz00ENUVlZqSyenT5/mE5/4hFhzFLJPX1+flsxG2oIxWCQS4aOPPqKwsBCbzcb8Oz5LzW+fQIoEsThymHnLPfQHg3i9XiwWS/ZemcsyOpOFSMCHZDTjN9jocgd47Nprh9119+7drF27loULF9LT08OTTz5JWVkZhYWFKQg8vtxuN/X19fj9/oT1Q00EVVW1EzqEsdPpdPzqV7/iG9/4hrancdmyZUyfPn1cjyOSo5D2FEXB4/FgtVpH3YKhqiqBQIBgMEhbWxsdHR185jOf+dOb+xxKZ8zH09GEq2I6ltwiIpEI3d3dtLa20tvbi8lkwmw2p/1oYjwkSaLi1oepe/E/ifr7kaZfjT8qaf0lPR4PL730Eu3t7Zw4cYK77roLGOhJWVFRQUNDQ0Ynx1AoRHNzMx0dHWmxPWO8ZFkW2zkuw/Tp08edEAcTyVFIe7Hje3Q63YhbMA4cOMCMGTOYP38+fr+f+vp6HnrooSHNoe3FldiLK7XP9Xo9RUVFFBQU0NvbS0tLC263G4PBgNVqzYokGQ36UY02pn7mW8yfPw+zK3/I63ryySdZuXIls2bNYt++fZw7d47q6mp8Ph9NTU2sXLkyhdFPnKqqdHV10dDQQDQaTZvtGeMl9jqmlkiOQtobvN9r5syZzJgxg2AwqCXGxYsXs3z5cs6dO8d7773H/fffP+ZTE2RZJi8vj9zcXPr7+2ltbcXtdiPLMjabLSPfVAECnU2ce+4Jwt4+THYXMyqfwJIz8lmisixz991388c//hFFUYhGo6xcuZLKysoR75/O/H4/jY2NdHd3Y7PZMvpAbLHXMbVEchTSVtDTy5H/foK2k0cwlEzHest9BMJRotEoVquVadOmcfz4cYqKirDZbLzwwgvY7XaeeeYZ7THuv//+Me1fkyQJp9OJ0+nE6/XS3t5OV1cXAFarNWVtxCaqbfcLRHz9yBY7StDH8Rf/i1Vf/D9D7jO4ofi0adP43Ofiu9/sYk6fPs2bb76JqqooisKqVatYsmTJhB8vGo1q2zNS1Q813mIjR1VVM/61ZKLM+o0XJpWPfvcjWg/vJoJM4MR+ms02Zt72IIWFhdjtdiRJ4sEHH9TuP55KtIux2WxMmzaNsrIyOjs7aW9vR1EUrFZr2pf+x6iREPzpXEBZpyMaTJ8RiKqqPP/882zevJni4mJ6e3v50Y9+xNy5cydUHOXxeKivr8fj8aS0H2q86XQ6IpEIkUgkY37uskl2/BQJWcnddAbZaMIgG5BRsCm+Yc2EE8lsNlNZWUlxcTFdXV20tbVlTIVr4ZW34m06jRr0IxmNzFr/mVSHNIQkSdqUYTAYnNDoPBKJ0NLSQmtrK0ajMeMKbi4lNloUyTE1RHIU0lbJolWceeMZJDmMLEmULl6dkjiMRiOlpaUUFhbS09NDa2srPT09mM3mtK1wtU+ZR9ldX8ES9TJ98ZU4Si7vbLt4kiSJu+66i9/+9rcYjUb8fj/33HPPmLdYqKqK2+2mrq6OUCiUUdszJiIcDg85JUZIDpEchbQ19/aHMNpd9NafpGDWEqau3pjSePR6PYWFheTn5+N2u7XiHb1ej9VqTbviHZ2zgIppV+IoGLkQJ1UUReGdd97hnnvuYcqUKTQ3N/PMM8/w+c9/np/+9Kfo9XptFLlmzRrmzJnDc889R2dnJzqdDp1Ox8yZM8nPzx9z4VUmE40AUkMkRyFtyTo9M2+6J9VhDCPLMrm5ueTk5NDf3097ezs9PT3IsozVak2rUUw6Tv+2tbXR39+vndReXl6O0+mktbUVgLvuumvIwdKRSIRly5aRk5NDY2MjtbW1nDhxIinHjaUD0QggNdLrUlcQMkiswnXmzJnMnz+fgoICvF4vfX19Kb/aj50ROdFTTOJJVVWi0aj2udPpxOPx0NnZCUB3dzfd3d0UjDLCDYVCKIrCuXPnMJlMVFRU4PV6kxJ7qontHKkjRo6CEAexPXWlpaVahWskEsFqtaYkQUWjUfR6fcqTY09PD++88w5er5eysjLWrFmD3W5n48aNPPfcc0iShKqqbNiwQZsifeGFFwAoLS1l4cKFdHd3I8uy1g/15MmTVFRUpPJlJY1oBJA6IjkKQhzFRjaxCtfW1lZ8Pp9WvJMs4XA4LTr97N27F6/Xi8FgoLm5mZMnTzJ//nwWLlzIwoULh93/wQcfxOVy0dPTw+uvv87rr7/O9ddfr61BHjt2DI/Hw4oVK5L9UlJCJMfUEclREBLAYDBQUlIypMK1t7cXo9GIxWJJeNKKRCJp0R3G6/VqPUIVRbnkdKjVaqW+vp62tjaqq6upra3VEuOJEydoamrihhtuyJq9jJei0+nw+XwoipJ2BV/ZbnL8hAlCiuh0Ou0Ekb6+vqRVuMaaFqTa9OnTOXbsGJFIBEmSUBQFn8+nxRbr/qKqKh0dHdTX1wMD65KnTp3SzuM7ceIE9fX13HDDDSmfKk4mnU6HoihEIpFJ9brTgUiOgpAEsZZmLpcLj8dDe3u7tpaWqArXdHgzXbp0KT6fD4/HQ35+PrIsc+zYMex2OydPniQYDDJ16lRyc3Npbm7myJEj2tfa7XauuuoqfD4fhw8fxmaz8eabbwID/5+33HJLql5W0oXD4bT4fk4mIjkKcfHaa69x8uRJ3G43jz76qFaK/9RTT+HxeJAkCZPJxPr16yktLU1xtKkjSRIOhwOHw4HP56Ozs5OOjg6tx2g8xCpVY9s4RvseRCIR3njjDc6ePYter6e4uJiPf/zjcYkhJhqNYjabycvL0y4AwuEwBw8eBAb2jtbU1FBZWUl5efmwQ5hjxnOCe7YRhx6nhkiOQlzMmzeP1atX84tf/GLI7XfffbdWiFJTU8OLL77IY489looQ047VamXKlCmUlJRw/vx5otEovb29l13hGo1GMRgMWsux0b4H27dvB+Av//IvkSQJj8dz+S/qAoOPG4uJTaPKskw0GkWSJHQ6XcqLhyZi27ZtWmMCGPg9qKqq0v69traWAwcOsGbNmglX2KqqSjgcjku8wtiJ5CjERWxD94UGV2iKqruRmUwmysvLKSwspLq6mpaWlss6gPnCStWRvgehUIhDhw6xZcsW7X52uz1Or+jPYiPWwXQ6HS6XC7fbjaqq2ueJFo1G2bNnD319feh0OkwmE1dccQUOh4NAIMC+ffvweDzodDqWL19OUVHRmB531apV2troYB6Ph7Nnz5Kfn39ZcUuSJH53UkAkRyHhXnjhBerq6gD49Kc/ndpg0pgsyxQVFZGfn09vb69WvDPeA5hHqlS98HvQ09ODxWJh165d1NbWYjAYuO666+Le2D1WoTuYJEnMmjWLjo4OwuEw+fn5SSsemj59OqWlpUiSxKlTpzhw4ABr167lyJEj5Ofnc/3119PV1cXu3bu5/fbbJ1wwpaoqBw8eZPny5Rw6dOiyYhbbOVJDJEch4e68804ADh8+zPbt27n33ntTHFF60+l05OfnD6tw1el0YzqAWVGUYY2qL/we3HjjjbjdbgoLC7nppptobW3lqaee4gtf+ELcRpDhcFg7Rmqk15jstWedTjdkTbOgoIATJ04A0NjYyG233QZAfn4+FouFjo6OIW3sRrNv3z4A8vLyWLx4MWazmZMnT2pVyvGIW3TJST6xcUZImiVLllBXV4fP50t1KBlBkiRcLhezZ89m/vz55OXl0d/fT19f35B2bCMZradq7HvgcDiQJEnbiF9aWkpubi4dHR1xi9/n82lri+ko1mkntgdz8AWFzWYb08/p2rVrufXWW1m3bh0mk4n9+/fT29tLY2Mj8+fPj0ucer1ejBxTQIwchYQJBAKEw2EcDgcwsFfNYrGI43fGSZIk7HY7drt9SHs6VVWHHcB8YU/V0b4HNpuN6upqzp49y8yZM+np6aGnp2fU/qYTMdJ6Y7oY3GnnUhcaFxObvj506BBNTU34/X5ycnLwer28/PLL+P1+VFXl/PnzmM1mli5dOqRgZyxkWdYOPZ4szQ/SgfifFsbNHXSzq+kdQGV1+RpyzXm89NJLnD59Go/Hw9NPP43RaOT+++/n2Wef1TaAW61WPv3pT6ftG2YmsFgsVFVVaRWura2t2gHMav952t59kWg4RH/eF8ifsZBAIDDq92Djxo1s27aN7du3a587nc64xdrT05OWp4Jc2GlHr9cjSRJ+v1+7cPN6vZdcB41EIiiKgtFopLKyEqPRSE1NDVVVVSxevBgYqGY1mUzMnz9/wtWqsiyjquqw5Dja9ikhPuKSHF955RW+8Y1vcPToUT7/+c/z/e9/Px4PK6ShQCTAvxz4Nm3eNiTg7aa3+YdV/8jtt98+4v0/+9nPJjfAScJoNFJWVkZRURE9PT001Z2l9pl/JervRyfr2PsfX+WGr/2cnILSUb8Hubm5PPDAAwmJLxQK4fP54pps42G0TjuVlZWcOXOGhQsX0tXVhd/vH1KtGgwG8Xg8mEwmbQ01EAiwe/dubbRut9sTulH/wr2Oo22fEuIjLslx5syZ/OIXv+DZZ59NyF4pIX009Ndz3t+JQ28nEonQ5TvPsdajLCldOmR6T0iO2AHMOs956qMhdPZc9HodashPX9NZbAWpabgQW69L1SxBIBCgvb0dWZYpLi7GaDRetNPOkiVL2Lt3Ly+//DKyLLNy5UptrdTn83Hs2DEURUFVVaZOnUpJSQl2u53169cPed5t27YNi0VRFD766COam5u1gp2JuHCv42jbp4T4iEtynDVrFvDno2aE7JVjygUkfCEfUUUhqkY439TFobZDmM1mrftL7BQKsUaSHPbCMgwWG5GgH1WRAQl7yfjWtuKpr68vZYU44XCYY8eOacnk/PnzLFq0CKvVOmqnHbPZzA033DDiv3V0dGi9TaPRKE1NTWOewly7di02mw1FUfjwww/Zv38/11133YRfl5A8Sf/pfeKJJ6ioqND+iJFmZimyFvHp2feiKANViOuKbmVa/jScTieSJNHd3U1tbS3Hjx/n0KFDHDt2jIaGBrq7u/H5fJdV/CCMzmh3cfX/+BfyqufiKJvGis9+C0eKkqOqqloTg1TweDxEIhEMBoNW6Xk5FdKxJK+q6rirb2MFO7IsM3v2bO2A54nEICpWk2tMl/VXX301p0+fHvHfDh06RGVl5ZifcMuWLWzZskX7fLIcWppNljiXYi204XQ5kaWBNwpJkjAajUPWXBRFIRwO09HRQVtbGzDwS26z2XA6nVitVsxmMyaTKamjjJF6jbpcLn79619r9wmHw/T09PCVr3wlY6pr86bN55q//mGqwyAYDBIIBFK23hhLytFoVDv143LWAktKSuju7iYQCCDLMlOmTKG3txe9Xo/NZht16nhwwQ5AfX39iJ10xkKv14u9jkk2puS4d+/eRMchZJCenh70er2WGEcjyzImk2nICCIajRIKhWhpadEabRsMBux2Ow6HQ0uYRqMxYetVo/UaHdzzdc+ePdTX12dMYkwnqV5vtFqtTJ06lcbGRiRJYurUqZc1ijUajSxatIhAIKB11vH7/QCUlZVRVVXFwYMHaWlpIRAI8NZbb2EwGLj++uuHFexcddVVE4pBdMlJPrEgJIxLNBqlp6dnwkUFsSbNg78+Eong8/m0XpswkDBj65cWi0VLmPEwln6vhw4dYu3atXF5vskm1s0n5sLm2/v376e7uxtJkpBlmUWLFsV9G0JxcTHFxcVxe7zY0WLt7e34/X70ej2qqtLS0kJZWRkrVqwY8esuLNiZqJ6eHjo7OwkGgyxcuBCj0Tji9qnHH388Ls8nxCk57tixgwceeIC+vj5UVeW5557jP//zP/nYxz4Wj4cX0ojX6yUajca10Ca21yw2Sovt6erv76e7u1u7n8lkGpYwJxrHxfq9NjY24vf7tUKzRDh06BDbtm3jnnvuYc6cOdrt586d46mnnuKWW25h5cqVCXv+RLlwvXGk5ttLly7VLnR6enrYuXMnd955Z0bsf70wRkmSEh53d3c3586dQ1EUTpw4QV9fHzfccMOo26eSLWQO8O7H/jDxB/hd/GKJp7i8w61du5ampqZ4PJSQ5txud8LfDCRJGnLkEvz52J7e3l7Onz+v3c9iseBwOLDb7VqF7FgODr5Yv9cPPviAxYsXJ2wdtLe3lw8++GDE9fbt27czc+bMhDxvMsQ68lit1lGbbw+eAQiFQqkIc8Ly8/Npb2/H6/UiSRKVlZUJOah6sL6+PhRF0X4nYt2RMuFiIpOJaVVhzFRVpaura8JTqpfjYgU/58+fp729Xbvto48+wuPxYDQasdlsbNy4kYKCAnbt2sWRI0fo6urSRmxLlizhlVdewefzYbVaCYVCHD9+PGHNC1RVZdu2bdx666288cYbQ/7NYrFw7bXXUlNTk5DnTobB1ecXa7595MgRGhoaCIfDrF69OmPe6HU6HfPnz8fr9Q6Z7UgEVVW19VtZltHpdITDYQoKCjLm/yuTieQojJnP5yMYDJKTk5PqUICRC37C4TBVVVXk5eWhqir19fX85je/4ZZbbsHhcHDLLbfw9ttva2ubF/Z7PXr0KMXFxXHtMTrY3r17qaysHHbi/fHjxwGYPXu2lhy///3va1POAGvWrGHBggWcOXOGN998UzvUeOPGjWnTOqyvrw+9Xq813x5t3Xbx4sUsXryYtrY2jhw5wtq1axM+AosXWZa1XrWJoKoqgUCAQCCAy+Vi5cqV1NfXaw3jr7zyyoQ9t/BnIjkKY9bX15f2V6wGg4GpU6cSVaPsPL+D09Jpcrx5dPS3Y1YttLa20t7ezksvvcQbb7yBzWbjYx/7GOFwGIPBwKFDh1i2bFlCYuvo6KCmpobNmzcPud3j8fDOO+9oFZCD3XXXXUMSn9/v5/nnn2fz5s0UFRVRX1/P888/zxe+8IWExDweiqLgdrsxmUy0tLRozbdhYLr14MGD+P3+IdPGJSUlvP/++7jd7rgc75TpAoEAfr8fu93O3Llztf3DixYtYtGiRakOb1IRyVEYs66urrRsJD2S93vfY3/vPkraynC7ennD/Qc+U3E/TqeTvLw8ZsyYQWFhIZFIhO7ubrq7uzEajVx//fU4HA76+/sxm81xbYlXX19Pb28vP/zhwF5Ej8fDSy+9xHXXXYfH48HhcPD9738fn8/HyZMntdHtYLFDimN9P6dMmYLb7aa1tTXp5yMOpqoqPT09hEIhbDYbM2fOHJIEd+zYwezZsykrK6O/v18beXV1dREMBuN2hmSmCgaDWuPzWbNmkZOTk7ZHfU0WIjkKYxIIBNKykfRoOkId5LTmYQga6Z3VjTc0tBOTTqcbcupCrELW7XbT1dWl3R7PlngrVqwYUvL/5JNPsnLlSubMmcOVV17Jli1b+Id/+Ae2bt1KSUkJ+/bt01oylpWVcdNNN5GXl4ff76exsZHKykpOnjxJKBSit7c3ZcnR7/ezc+dO7f9t/vz5WmeYCymKwv79+wmHw0iShF6vZ/Xq1Qlt2J3OYg3aTSYT06dPJy8vTyTFNCGSozAm/f39GVUh52h1YO+10zqriYgUYb51wUXvP1KFrKIo2sgy1vYrduzThRWyF76hqapKrfssvcFeZubOwmkc/0XFgw8+iMvlIhqN8uabb7J161buvfde7r77bnbs2EEoFKKiooLCwsKUvqEeO3aMnp4eZFkmHA5TW1urHaIcM3jt8aabbkp2iGknHA7j9XoxGo1UV1eTn5+fMWuuk4VIjsKYxKYdM8GJEycItAdZvHox9pCNAmMhV+euGvfjyLI84ZZ4f2x5g21nX0RCwml08PdXfZ18S/6Qx79w7THmjjvuGPK5Tqdj5cqV/OhHPwKgurqa6upqYKCBwr/9279RWFg47tcXL8FgEEmStL6jFx6tJPxZJBLB6/Wi0+moqqqisLBQNOdPU+K7IlxSOBymr68v7daF/FE/u7t34Q73stC5iNn2OUOOJWo72I4NB0E5hPEWI8eOHePMmTMEg0EOHDjA+++/z7p168a1NeVSLfFUVUVRFX7f+RxG2YDJYKLL382e5ne5fcbYm2KEQiEURdFiO3r0qFaYM3jN7p133qG6ujqlxSwzZsygsbGRYDCIqqppUzmbTqLRqNbPN3YOZ6ZcbE5WIjkKl+TxeMZ9GkEyPN/2HHW+cwP9Ln2n+IuyT1NtnTbqsUTz589n/vz5cY/jwpZ4iqqgP68nqkQJBYNElDAtTS0cCx4jJycHu92OxWLR3hwjSoQ/1r/BkY7DvNW4k2srrsPr9fK73/1O6z+bm5urNS7YuXMnDQ0NKIpCZWVlyjtRFRcXc8stt3DixAlCoVBKC4PSjaIoeL1eFEWhpKSE4uLijClqm+xEchQuqbu7O+3WQ6JqlHp/PRadBZ2koz/ioSnQSLV1WqpDQ5Zkbi3awCsdLxFUg5RaylhRcCWRSEQbXcLApn+Xy8Wb3Tt4p+0t2n0dPHX8V0TVKGurbuLRRx8d8fFTnQxHkpeXR3V1teiU9SeDk2JBQQGlpaWiiX2GEclRuKhYo/F0+8XWSToKDPl0hjoxyAZkSSLfkJiN+xOx0LmIqdZqfFEv+cYC9JIeDH9ueq6qKqFQiI6ODt7vOIgaVdEjo5N0HOk4zNqqzCtaMRqNI24/mUxUVcXr9RKJRMjPz6esrGxIVbSQOURyFC4qdvWbjkUDd5Xew6sdL+OOuFnkXMxc+7xUhzSEQ+/AoR+5k0rsLEmTyUS5t4Kj7o+IohBRI1Q5pyQ50vhIx5+RZIm1eguHw+Tk5FBeXp52a/TC+Ezen2ZhTHp7e9N2+0aeMY/PVNyf6jAu2w2utQTCAWp0J1lTdg23T0uP0xbGy2AwpO3PSiL5/X6t1duMGTNwOByT8v8h24jkKIwq1mg83aZUs04Q/sfiL9JX6eGhhY+kOpoJi51xOFkMbvU2Z84cXC6XSIpZRCRHYVQ+n49QKCTWTBIoEAhgtVqHnHeYqfR6PbIsE41G066AK56CwaB2isvMmTPJzc1Nu0pu4fKJ5CiMKhMajWcyVVXx+/3Mnj07K95cZVnGYDCgKEpWJsdYV5vBrd6y8XUKA0RyFEakqirnz59PydmNk4XP58PlcqXNEWDxYDabCQQCcW3YnmqxrjZ6vZ4pU6ZQUFAwqYuPJgvxHRZGFFtPyZRG45km1oZu5syZWTU6NxqNeL3eVIcRF7GuNrIsaz1ssynpCxcnkqMwov7+foCseuNOJ16vl/z8/Kwr9zebzUSj0VSHcVmi0aiW4EWrt8lLJEdhRJnUaDzTRKNRFEWhrKws6y4+MrkRwOCuNsXFxZSUlIhWb5NY5lcBCHEXCoXo7+8XbwwJ4vV6KSoqysoq4Exci1MUhf7+fvr7+8nLy2PhwoVMmTJF/PynCUmShv351a9+lfDnFclRGMbj8aAoSlZUUKab2HFO2dqcO5OSY6zVW19fHy6Xi/nz5zNt2jSxrzcNVVVVoaqqdq7qaMe9xVPm/CQLSdPT0yMKDxLE6/VSXl6etaOSTPi5iW2hCYVCuFwuysvLtSPAhPR28OBBgKRcuIvkKAwRazSejVN+qRYOh9Hr9RQVFaU6lISJNQJI15mHWKs3p9PJtGnTcDqdWbfum2mam5uHfQ8uXLduaGgYcp9jx44lPK70++kVUio2pSo2N8efx+OhvLw8I0ZXExVrBJBuFavBYJCenh50Oh2zZ89m7ty5ot1bmigvL0dV1SF/LhSbVq2pqQFg7ty5CY9LjByFIdxud1pe8We6YDCIxWKhoCB9jtVKFKPRSCgUSouLgFAohM/nw2w2M2PGDPLy8sTPdwabM2cOJpOJYDCY8OcSyVHQKIpCV1eX6IoTZ7HjjGbOnDkpRuRmsxm/35/SGGKt3oxGI9OmTROt3rJIMhIjiOQoDBI7jy6d1hu3bduGTqfT3tjmzZtHVVXVqLeno0AggN1uJzc3N9WhJIXJZErZtGqs1ZtOpxOt3rLIhWuOGzZsSPhzip8aQZOujcZXrVo1YmIZ7fZ0oqoqwWCQ6urqSTOdZzKZkt4IINbVRpIkysvLKSoqSotpXeHypaqphEiOAvDnsxuzdYtBqni9XnJyciZVj9pkjtQGt3qLdbURnZ2EeBDJUQDSu9H4vn37AMjLy2Px4sXamuhot6cLRVGIRCKUl5en5Yg8UZKRHAe3eisqKqKkpCTtvv9CZhPJUQDSt9H42rVrsdlsKIrChx9+yP79+7nuuutGvT2deL1eCgsLs665+KUkMjnGutpEIhEKCwspKSlJqzVyIXvE5af4Bz/4AT/96U+1vnd/8zd/w2c+85l4PLSQJF1dXWk5HWWz2YCB/XOzZ8/mlVdeuejt6SLWXDxb28RdjMFgiHsjgFjFbzgcJjc3l/Lycu1nQEgtJWKl++SnLuMRfh+3WOIpLslx/vz5vPvuu7hcLhobG1m6dClXX30106dPj8fDCwkWCoXweDwpH+FE1Ag6dNroNRKJoCiKlrTr6+vJzc0d9fZ04vF4KCkpmZR9OmVZRq/XE41GLzs5qqpKIBAgEAjgcrmYOXMmdrs97WY4hOwTl+S4du1a7ePKykpKSkpobGwUyTFDeDweVFVNWTVlIBrg+bbnqPPXkaPP4e7ST1JoKiIQCLB7926tWs1ut3PVVVeNenu6CIfDyLJMSUlJqkNJGZPJNKwRwPvvv09zczM+n49169YNu6Cpra3lwIEDrFmzhoqKCm0d3OFwUF1dLVq9CUkV98WB7du309PTw4oVK0b89yeeeIInnnhC+9zj8cQ7BGGcuru7U7oXbF/vHmp9tVh1FnrC3bzU8RIPVT6M3W5n/fr1I37NaLenA5/PR2VlZVpOUyeLyWQa1gigsrKSuXPnsn379mH393g8nD17lvz8fMLhML29vVitVmbNmkVubq5IikLSjWmocPXVV1NQUDDin8bGRu1+H330EQ8++CC//e1vR10P2LJlC01NTdqfVE/lTXaRSITe3t6UVvr1RfqQAJ2kwygb6Yu4UxbL5YqNlgoLC1MdSkqZzeZhjQBGO8NSVVUOHjzIokWLUBQFVVWZPn068+fPJy8vTyRGISXGNFzYu3fvJe9z/PhxNm7cyC9+8QvWrFlz2YEJyeH1eolGoyltrbXAsZBj/cfoj3iQkVjhujJlsVwun8/HtGnTJn1XFqPROObN28ePH8dut+NwOLBYLFpnG0FIpbj8BtfU1LBhwwZ++tOfcvPNN8fjIYUk6e3tRafTEY1GOXz4MK2treh0OnJycrj66quTEsM063TuLf8MDf56cg15zLXPS8rzxlsgEMBqtZKfn5/qUFLOYDBccsQXiURoa2ujsbGRu+66i+LiYo4cOTJpOgkJ6S0uyfHxxx/H7Xbz1a9+la9+9asAfPe732XdunXxeHghQQY3Gj9y5AgAt912G5IkJb1xdJVlClWWKUl9zniKHaA7e/Zs8ebOwF7Hi40cY/1PFUUhHA7z7LPPAgNrjy+99BL9/f2j1i0IQjLEJTn+8Y9/jMfDCEkW2zdmMpmora1l06ZN2tX+ZNyCcDl8Ph8ul4ucnJxUh5IWRppWjnW1UVWVvLw85s2bh8lkGjLb9OSTT7Jy5UrmzJmTzHAFYZjJvTAyycXObvR4PBiNRo4fP05bWxs6nY4FCxZM6q0I4xEb/cyYMUMUj/xJR0cHTU1N9Pb2UlpaSjAY5MMPP6Srq4tAIMCOHTvYtWsXjz/+eKpDFYQRieQ4SQ1uNO71evH5fDidThYvXkxPTw87d+5kw4YNol/lGHi9XvLy8nA4HKkOJS20tbWxe/dugsEgbreb3t5eli1bxqc+9alLtnrbvHlzcoIUhEsQiyOTlN/vx+/3YzQasdlsSJLElCkDa365ubnY7XZ6e3tTG2QGiLWJm2zNxS+mo6MDRVEwmUwYDAbC4TDTpk0TPVCFjCJGjpNUf3+/1gvXZDJRVFREW1sbZWVleDwePB5PWp7QkQo7d+4kEAggSRJ6vZ7ly5eTm5tLf38/7777LoqicOTIETZt2kRRUVGqw025WCebWH9Vl8slipSEjCOS4yRzovsEvzz6M7o9PSyzL+MG51okSWLFihUcOHCAI0eOaJ+LK/0Bq1ev1rrdNDU1sX//ftavX8+BAweoqqpiw4YNnD17lhdffJHPfvazKY429aZMmUJfXx9nz54lNzeXlStXpjokQRg3kRwnkWA0yI8O/YBgJEBUibKvby9THdVMs07Hbrdz4403pjrEtDS4DVwoFAIG9jR2d3dz++23YzKZmDt3Lq+++ird3d3k5eWlKtS0IEkSixYtYtGiRakORRAmTCTHScQT8uCLeLHrHAMJUlVwh3tTHVZG2LdvH+3t7QBcd9119PX1YTabtYpeSZJwuVy43e5JnxwFIRuI5DiJ5JpzmeaaTm3vWSJSFFmRqTRn7sb7ZIpNDZ47d44jR44wdepU9Hr9kFMnBEHIHiI5TiKyJPM/l/81O+r/iDfsoyJagcFnAFOqI8sc1dXVHDx4kMWLF+P3+7UDfVVVxe1243K5Uh2iIAhxIJLjJGMz2PjYjDuAgXMHT5w4gdfrFaeqjyIUChGNRrWOQY2NjRgMBqZPn05NTQ0ffvghS5YsoaamBqfTKaZUBSFLiOQ4icXe5I8fP04oFJrU5w8CNAea2da2FW/Uw1LXMm7IX0s4HObdd98lGo1qWznWrFlDXl4eGzdu5MUXX2TXrl2YTCY2bdqU6pcgCEKciOQ4yVmtVqZNm8bp06fR6XQpPboqlRRV4bnW3+GNejBKRvb37KPMVM5cxzxuueUWAG3qdM6cOciyTEFBAQ8//HCKIxcEIRHEzlyBvLw8ysvL6evrG/MZfNkmrIbxRjxYZAsG2YAK9EZ6h9zH6/WSk5MjmiMIwiQgkqMAQFlZGfn5+fT396c6lJQwSkamWqvxRn30R/rRSzqqLdXavyuKQiQSEW3iBGGSENOqAgCyLDN16lRqamomZYGOJEncVXo3B3sP4o16mWefT4m5VPt3r9dLYWEhdrs9hVEKgpAsIjkKmsFVmJOxQMcom1idt2bY7bHm4qWlpSN8lSAI2UhMqwpD2Gw2qqur8fl8RKPRVIeTFrxeLyUlJeIAaEGYRERyFIbJz8+f9AU6MZFIBEmSxMHPgjDJiOQojKisrIy8vLxJW6AT4/F4KC8vn3RTzIIw2YnkKIwoVqBjMpnw+XypDiclYuuuhYWFqQ5FEIQkE8lRGJXRaGT69OlEIhHtqKbJxOfzUVFRgV4v6tYEYbIRyVG4qFiBjtfrnVQFOoFAAKvVSn5+fqpDEQQhBURyFC6poKCAsrKySVOgo6oqfr+f8vJyZFn8igjCZCR+84UxqaioIDc3d1IU6Ph8PlwuF7m5uakORRCEFBHJURgTWZaprq7GaDTi9/tTHU7CKIpCOBwWbeIEYZITlQbCmMUKdGpqatDr9RgMhlSHFHder5e8vDwcDkeqQxGEjODy9/GvW/9xwl+/LI6xxJMYOQrjYrfbqa6uxuPxoChKqsOJK0VRUBSFsrIyMWoUhElOJEdh3PLz87OyQMfj8VBUVDTpmq4LgjCcSI7CuEmSRHl5OS6XC4/Hk+pw4iISiQCINnGCIAAiOQoTpNPpmDZtGnq9PisKdLxeL6WlpZjN5lSHIghCGhDJUZgwo9HIjBkzCIfDhMPhVIczYeFwGJ1OR3FxcapDEQQhTYjkKFwWu93O1KlTM7pAx+v1Ul5enpXVt4IgTIxIjsJlKygooLS0NCMLdILBICaTSTQXFwRhiLgkx//4j/9g4cKFLFmyhAULFvCDH/wgHg8rZAhJkqioqMjIAh2/309FRQU6nS7VoQiCkEbikhw/85nP8NFHH3H48GH27NnD9773PQ4dOhSPhxYyhE6no7q6OqMKdPx+Pzabjby8vFSHIghCmolLhxyXy6V97PV6M7o4Q5g4k8mUMR10VFXlD3/4AxaLhd27dwOwZs0apk2bxq9//WvtfuFwmJ6eHr7yla9gsVhSFa4gCEkWt/Zxzz33HN/85jc5c+YM3/72t1m6dOmI93viiSd44okntM8zbRpOuDiHw8HUqVOpra3F5XKN6VSL999/n+bmZnw+H+vWrdMafre2tvLhhx+iKAp6vZ4rrrgibs3AvV4vsixz9913U1paOuTfHnvsMe3jPXv2UF9fLxKjIEwyY5pWvfrqqykoKBjxT2NjIwB33XUXx44d4+TJkzz99NOcPHlyxMfasmULTU1N2h+73R6/VyOkhcLCQkpKSsZcoFNZWclNN92E1WrVbguFQuzdu5eVK1dy6623snjxYvbt2xeX+BRFIRKJoNfrL9km7tChQ6Ne6AmCkL3GNHLcu3fvmB9w6tSpXHXVVbz88svMnj17woEJmUuSJCorK/H7/Xi93kteABUVFQ27zePxYDKZtCn7oqIivF4v3d3dl71G6PV6KSwsRJIkXnjhBQDKysq46aabhrSOa2xsxO/3M2vWrMt6PkEQMk9cCnKOHz+ufdzZ2cmbb77JokWL4vHQQoaKddCRZZlAIDDur7fb7QSDQc6fPw9Ac3MzkUgEr9d7WXFFo1EURaG0tJQHH3yQz3/+83zuc5/DarWydevWIff94IMPWLx4sTjwWBAmobj81v/7v/878+bNY8mSJdx000381V/9FTfffHM8HlrIYLECnWAwqPUuHSuj0cjq1as5cuQIf/jDH2hra8PpdF52ovJ6vZSUlGCxWLRRqU6nY+XKlTQ0NGj3C4VCHD9+XEypCsIkFZeCnJ/85CfxeBghCzmdTqqqqqirqxtzgU5McXGx1tItGo2ydetWnE7nhOLoDfcSCPuxYqWkpIRQKISiKFov1aNHjw5pOn706FGKi4spKCiY0PMJgpDZxGHHQsIVFxfj9/vp6OjA7rKjqApG2XjJr/P7/VqV6LFjxyguLp7QIcS7ut5hV8/bKFGF+XkLWKpfRr+7n9/97nday7vc3FzuvPNO7WsOHTrEsmXpegyrIAiJJpKjkHCSJFFVVcV7HQd59cwrKFKU5a4V3FxwC7Ikc/DgQVpaWggEArz11lsYDAY2btzIRx99RGdnJ6qqkp+fz5VXXjnkcRVF0aphVVVFVVUt2cU+d4fdvN31FibJiKyTOe09zUfnP2Rp0TIeffTRUWN++OGHE/cfIghC2hPJUUgKf9THG+4/AGBQjbzXc4ByqZwppqnMnj17WEWo2+1mzpw5QyqeA4HAkO47kiRpf2RZRpZldDrdkL+j0Qhyh4RRb0Sv0+OL+ogo41v/FARh8hHJUUgKf8SPokZxmB1EIhGi0Qh6u57ivGJ0Op2WzGRZHpLwxvJ37M9IVFVlVWgNB9sOEFLClNnLWVCwMMmvXhCETCOSo5AU+ZYCZufN4WT3CZAgx5rLdXOuJ8eUk9DnlSSJzy78HKvL1hBWQszNm4dZLw40FgTh4kRyFJJClmS+tOx/sq9lL8FokOXFVyQ8MQ5+7gUFC5LyXIIgZAeRHIWkMelMXFd5farDEARBuCTR+kMQBEEQLiCSoyAIgiBcQCRHQRAEQbiASI6CIAiCcAGRHAVBEAThAiI5CoIgCMIFRHIUBEEQhAuI5CgIgiCktf/4j/+4aJvIRBDJURAEQUhrX/ziF7WP/+u//ispzymSoyAIgpDWVFXFZDIBXPSouXiS1NiBeCliMpkoLCzE4/Fgt9tTGcqo0jW2dI0LRGwTka5xQfrGlq5xQfrF1tnZSTAYjPvjrlixgtbW1gl/fXNz87DbBqeluXPncuLECerr65kxYwbhcJhkpK2UJ8eYiooKmpqaUh3GiNI1tnSNC0RsE5GucUH6xpaucUF6x5ZJYuuMqqpy4sQJ5s6dy7x58zh27FhCn1c0HhcEQRDS0gcffKB9PLgY5/jx4wl/brHmKAiCIKSlq666ChgYNcb+zJs3DxiaOBMhbZLjli1bUh3CqNI1tnSNC0RsE5GucUH6xpaucUF6x5YpIpHIsNti06mxxJkoabPmKAiCIAjpIm1GjoIgCIKQLkRyFARBEIQLiOQoCIIgCBdIq+T4rW99i8LCQpYsWcKSJUu49957Ux3SMB0dHRQXF3PHHXekOhRgoOfgwoULWbJkCQsWLOAHP/hBqkPS/OAHP2DBggUsXLiQRYsW8fTTT6c6JM0rr7zC8uXLMZlM/NVf/VVKYzl9+jSrVq1i1qxZrFixIuH7t8bq8ccfZ+rUqUiSxOHDh1MdzhCBQIA77riDWbNmsXjxYm6++WbOnDmT6rAAuOWWW1i0aBFLlizhmmuu4dChQ6kOSZgINY1885vfVL/0pS+lOoyLuuOOO9SHHnpI3bRpU6pDUVVVVXt7e7WP3W63WllZqX7wwQcpjOjPtm/frsXX0NCg5ufnq2fOnElxVANOnjypHj58WP3a176W8p+5G264Qf3lL3+pqqqqPvvss+oVV1yR0nhi3n77bbWxsVGdMmWKeujQoVSHM4Tf71dfeeUVVVEUVVVV9Yc//KF63XXXpTaoP+np6dE+fv7559VFixalLhhhwtJq5Jjufv7zn1NdXc0111yT6lA0LpdL+9jr9RIOh1MYzVBr167V4qusrKSkpITGxsYURzUgNuLQ61PbB6Ojo4P33nuPz3zmMwB84hOfoLGxMS1GQddeey0VFRWpDmNEZrOZDRs2aBvDV65cSV1dXWqD+pOcnBztY7fbndSTJIT4Sbvk+Oyzz7J48WJuvPFGdu7cmepwNOfOnePHP/4x//zP/5zqUIZ57rnnmD9/PlOnTuXLX/4yS5cuTXVIw2zfvp2enh5WrFiR6lDSSmNjI6WlpVqSliSJqqoqGhoaUhxZZvn3f/93Nm3alOowNPfffz+VlZV8/etf56mnnkp1OMIEJPWy+eqrr+b06dMj/tuhQ4d47LHH+NrXvobBYODdd9/lzjvv5ODBg0yZMiXlsT300EP86Ec/wmKxJDyW8cRVWVnJXXfdxV133UVdXR133nknGzduZPbs2WkRG8BHH33Egw8+yG9/+1tsNlvC4xpPbELm+/a3v82ZM2fYsWNHqkPR/PrXvwbgV7/6FV/96ld59dVXUxyRMF5JTY579+4d831Xr17N0qVLee+995KSHC8Wm9vt5sMPP+See+4BBrrt+3w+1q5dm/BfyPH8n02dOpWrrrqKl19+OSnJcSyxHT9+nI0bN/KLX/yCNWvWJDymmPH8v6VSZWUlra2tRCIR9Ho9qqrS0NBAVVVVqkPLCN/73vd4/vnn2b59O1arNdXhDPPAAw/w2GOP0dXVRX5+fqrDEcYhraZVB3ewP336NIcPH2bhwoUpjGiAy+Wiq6uLuro66urq+N73vsctt9ySFleqgxvwdnZ28uabb7Jo0aIURvRnNTU1bNiwgZ/+9KfcfPPNqQ4nLRUVFbFs2TKtkvf3v/89FRUVzJgxI8WRpb8nnniC3/zmN/zxj38css6XSr29vbS0tGifb926lfz8fPLy8lIYlTARadU+7oEHHuD9999Hr9ej0+n4u7/7O+66665UhzXMk08+ydatW9m6dWuqQ+HRRx9l165dGI1GVFXl0Ucf5Qtf+EKqwwLg5ptvHjby/+53v8u6detSGNWAHTt28MADD9DX14eqqrhcLv7zP/+Tj33sY0mP5eTJk2zevJmuri6cTie//OUv0+Ki8NFHH+WVV16hra2N/Px8HA5HWhQKwcCFdGVlJdOmTcPhcAADZ8Pu378/pXHV19dz99134/f7kWWZwsJCvve977FkyZKUxiWMX1olR0EQBEFIB2k1rSoIgiAI6UAkR0EQBEG4gEiOgiAIgnABkRwFQRAE4QIiOQqCIAjCBURyFARBEIQLiOQoCIIgCBcQyVEQBEEQLvD/A47fMBxk5biBAAAAAElFTkSuQmCC\n"
                },
                "metadata": {}
              }
            ]
          }
        },
        "0b116dd195c54574afac6049e139ce17": {
          "model_module": "@jupyter-widgets/base",
          "model_name": "LayoutModel",
          "model_module_version": "1.2.0",
          "state": {
            "_model_module": "@jupyter-widgets/base",
            "_model_module_version": "1.2.0",
            "_model_name": "LayoutModel",
            "_view_count": null,
            "_view_module": "@jupyter-widgets/base",
            "_view_module_version": "1.2.0",
            "_view_name": "LayoutView",
            "align_content": null,
            "align_items": null,
            "align_self": null,
            "border": null,
            "bottom": null,
            "display": null,
            "flex": null,
            "flex_flow": null,
            "grid_area": null,
            "grid_auto_columns": null,
            "grid_auto_flow": null,
            "grid_auto_rows": null,
            "grid_column": null,
            "grid_gap": null,
            "grid_row": null,
            "grid_template_areas": null,
            "grid_template_columns": null,
            "grid_template_rows": null,
            "height": null,
            "justify_content": null,
            "justify_items": null,
            "left": null,
            "margin": null,
            "max_height": null,
            "max_width": null,
            "min_height": null,
            "min_width": null,
            "object_fit": null,
            "object_position": null,
            "order": null,
            "overflow": null,
            "overflow_x": null,
            "overflow_y": null,
            "padding": null,
            "right": null,
            "top": null,
            "visibility": null,
            "width": null
          }
        }
      }
    }
  },
  "nbformat": 4,
  "nbformat_minor": 0
}