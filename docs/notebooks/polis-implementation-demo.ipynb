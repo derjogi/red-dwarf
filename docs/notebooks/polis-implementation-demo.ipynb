{
  "cells": [
    {
      "cell_type": "markdown",
      "metadata": {
        "id": "view-in-github",
        "colab_type": "text"
      },
      "source": [
        "<a href=\"https://colab.research.google.com/github/polis-community/red-dwarf/blob/main/docs/notebooks/polis-implementation-demo.ipynb\" target=\"_parent\"><img src=\"https://colab.research.google.com/assets/colab-badge.svg\" alt=\"Open In Colab\"/></a>"
      ]
    },
    {
      "cell_type": "code",
      "execution_count": 1,
      "metadata": {
        "colab": {
          "base_uri": "https://localhost:8080/"
        },
        "id": "kEyVHx6y7zpu",
        "outputId": "a3d94ee1-2011-4a29-f449-cc4c0690122d"
      },
      "outputs": [
        {
          "output_type": "stream",
          "name": "stdout",
          "text": [
            "  Installing build dependencies ... \u001b[?25l\u001b[?25hdone\n",
            "  Getting requirements to build wheel ... \u001b[?25l\u001b[?25hdone\n",
            "  Preparing metadata (pyproject.toml) ... \u001b[?25l\u001b[?25hdone\n",
            "\u001b[2K   \u001b[90m━━━━━━━━━━━━━━━━━━━━━━━━━━━━━━━━━━━━━━━━\u001b[0m \u001b[32m116.1/116.1 kB\u001b[0m \u001b[31m131.9 MB/s\u001b[0m eta \u001b[36m0:00:00\u001b[0m\n",
            "\u001b[2K   \u001b[90m━━━━━━━━━━━━━━━━━━━━━━━━━━━━━━━━━━━━━━━━\u001b[0m \u001b[32m125.8/125.8 kB\u001b[0m \u001b[31m210.7 MB/s\u001b[0m eta \u001b[36m0:00:00\u001b[0m\n",
            "\u001b[2K   \u001b[90m━━━━━━━━━━━━━━━━━━━━━━━━━━━━━━━━━━━━━━━━\u001b[0m \u001b[32m61.4/61.4 kB\u001b[0m \u001b[31m185.9 MB/s\u001b[0m eta \u001b[36m0:00:00\u001b[0m\n",
            "\u001b[2K   \u001b[90m━━━━━━━━━━━━━━━━━━━━━━━━━━━━━━━━━━━━━━━━\u001b[0m \u001b[32m66.5/66.5 kB\u001b[0m \u001b[31m135.6 MB/s\u001b[0m eta \u001b[36m0:00:00\u001b[0m\n",
            "\u001b[?25h  Building wheel for red-dwarf (pyproject.toml) ... \u001b[?25l\u001b[?25hdone\n"
          ]
        }
      ],
      "source": [
        "%pip install --quiet --no-cache-dir git+https://github.com/polis-community/red-dwarf.git@main"
      ]
    },
    {
      "cell_type": "code",
      "execution_count": 2,
      "metadata": {
        "colab": {
          "base_uri": "https://localhost:8080/"
        },
        "id": "NkGdoHCy8RdA",
        "outputId": "6fb74db3-0c84-4fe3-8225-448d8559c5cc"
      },
      "outputs": [
        {
          "output_type": "stream",
          "name": "stdout",
          "text": [
            "Loading data from https://pol.is/report/r6bpmcmizi2kyvhzkhfr7\n",
            "{\n",
            "  \"participant_id\": 0,\n",
            "  \"statement_id\": 0,\n",
            "  \"vote\": 0,\n",
            "  \"weight_x_32767\": 0,\n",
            "  \"modified\": 1714782753431.0,\n",
            "  \"conversation_id\": \"4cvkai2ctw\",\n",
            "  \"datetime\": null\n",
            "}\n",
            "{\n",
            "  \"txt\": \"The prominent display of divisive issues is concerning as politicians like to find wedge issues and exploit them.\",\n",
            "  \"statement_id\": 1,\n",
            "  \"created\": \"2024-05-02T01:27:12.171000Z\",\n",
            "  \"tweet_id\": null,\n",
            "  \"quote_src_url\": null,\n",
            "  \"is_seed\": true,\n",
            "  \"is_meta\": false,\n",
            "  \"lang\": \"en\",\n",
            "  \"participant_id\": 0,\n",
            "  \"velocity\": 1,\n",
            "  \"moderated\": 1,\n",
            "  \"active\": true,\n",
            "  \"agree_count\": 4,\n",
            "  \"disagree_count\": 5,\n",
            "  \"pass_count\": 6,\n",
            "  \"count\": 15,\n",
            "  \"conversation_id\": \"4cvkai2ctw\",\n",
            "  \"datetime\": null\n",
            "}\n"
          ]
        }
      ],
      "source": [
        "from reddwarf.polis import PolisClient\n",
        "import json\n",
        "\n",
        "# Topic: What were the most significant developments in tech and politics in 2018?\n",
        "# 5 groups, 65 ptpts (56 grouped), 43 comments (open)\n",
        "REPORT_ID=\"r6bpmcmizi2kyvhzkhfr7\"\n",
        "\n",
        "print(f\"Loading data from https://pol.is/report/{REPORT_ID}\")\n",
        "\n",
        "# We'll use the old class-based client to simple load vote data.\n",
        "client = PolisClient()\n",
        "client.load_data(polis_id=REPORT_ID)\n",
        "votes = client.data_loader.votes_data\n",
        "\n",
        "# Show what our raw vote data looks like:\n",
        "print(json.dumps(votes[0], indent=2))\n",
        "\n",
        "# Show what our raw statement data looks like:\n",
        "statements = client.data_loader.comments_data\n",
        "print(json.dumps(statements[0], indent=2))\n",
        "\n",
        "# We need this for a little helper later.\n",
        "math_data = client.data_loader.math_data"
      ]
    },
    {
      "cell_type": "code",
      "source": [
        "# Now we use out custom polis implementation to recreate the Polis calculations.\n",
        "from reddwarf.implementations.polis import run_clustering\n",
        "\n",
        "# In this conversation, any -1 is moderated out.\n",
        "mod_out_statement_ids = [st[\"statement_id\"] for st in statements if st[\"moderated\"] in [-1]]\n",
        "print(f\"{math_data['mod-out']=}\")\n",
        "print(f\"{mod_out_statement_ids=}\")\n",
        "\n",
        "# We can run this from scratch, but kmeans is non-deterministic and might find slightly different clusters\n",
        "# or even different k-values (number of groups) if the silhouette scores if finds are better.\n",
        "# To show how to reproduce Polis results, we'll set init guess coordinates that we know polis platform got:\n",
        "init_cluster_center_guesses = [group[\"center\"] for group in math_data[\"group-clusters\"]]\n",
        "init_cluster_center_guesses = [[xy[0], xy[1]] for xy in init_cluster_center_guesses]\n",
        "print(f\"{init_cluster_center_guesses=}\")\n",
        "\n",
        "# Now with those guessed cluster centers seeded, we'll run the whole calculation from raw vote data.\n",
        "result = run_clustering(\n",
        "  votes=votes,\n",
        "  mod_out_statement_ids=mod_out_statement_ids,\n",
        "  force_group_count=3\n",
        ")\n",
        "\n",
        "# print(result.projected_participants.head(10))\n",
        "\n",
        "from reddwarf.data_presenter import generate_figure\n",
        "\n",
        "cluster_labels = result.projected_participants[\"cluster_id\"].values\n",
        "# print(cluster_labels)\n",
        "\n",
        "generate_figure(coord_dataframe=result.projected_participants, labels=cluster_labels)"
      ],
      "metadata": {
        "id": "EAfHaFFIhYw7",
        "outputId": "4e6595c4-0d5f-4329-8c16-882aff0a4025",
        "colab": {
          "base_uri": "https://localhost:8080/",
          "height": 484
        }
      },
      "execution_count": 71,
      "outputs": [
        {
          "output_type": "stream",
          "name": "stdout",
          "text": [
            "math_data['mod-out']=[33, 11]\n",
            "mod_out_statement_ids=[33, 11]\n",
            "init_cluster_center_guesses=[[-0.8815183295636166, -0.9368208225065185], [-2.240317342307938, 1.235331645814958], [1.8225543682165275, 0.8264564422323741]]\n",
            "Calculating convex hulls around clusters...\n",
            "Hull 0, bounding 3 points\n",
            "Hull 1, bounding 8 points\n",
            "Hull 2, bounding 8 points\n"
          ]
        },
        {
          "output_type": "display_data",
          "data": {
            "text/plain": [
              "<Figure size 560x400 with 2 Axes>"
            ],
            "image/png": "[encoded data removed]"
          },
          "metadata": {}
        }
      ]
    }
  ],
  "metadata": {
    "colab": {
      "provenance": [],
      "include_colab_link": true
    },
    "kernelspec": {
      "display_name": "Python 3",
      "name": "python3"
    },
    "language_info": {
      "name": "python"
    }
  },
  "nbformat": 4,
  "nbformat_minor": 0
}
