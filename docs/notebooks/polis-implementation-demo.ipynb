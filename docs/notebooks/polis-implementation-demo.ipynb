{
  "cells": [
    {
      "cell_type": "markdown",
      "metadata": {
        "id": "view-in-github",
        "colab_type": "text"
      },
      "source": [
        "<a href=\"https://colab.research.google.com/github/polis-community/red-dwarf/blob/main/docs/notebooks/polis-implementation-demo.ipynb\" target=\"_parent\"><img src=\"https://colab.research.google.com/assets/colab-badge.svg\" alt=\"Open In Colab\"/></a>"
      ]
    },
    {
      "cell_type": "code",
      "execution_count": 1,
      "metadata": {
        "colab": {
          "base_uri": "https://localhost:8080/"
        },
        "id": "kEyVHx6y7zpu",
        "outputId": "fc4e261e-4328-4241-b2e8-bd5d80b1f740"
      },
      "outputs": [
        {
          "output_type": "stream",
          "name": "stdout",
          "text": [
            "  Installing build dependencies ... \u001b[?25l\u001b[?25hdone\n",
            "  Getting requirements to build wheel ... \u001b[?25l\u001b[?25hdone\n",
            "  Preparing metadata (pyproject.toml) ... \u001b[?25l\u001b[?25hdone\n",
            "\u001b[2K   \u001b[90m━━━━━━━━━━━━━━━━━━━━━━━━━━━━━━━━━━━━━━━━\u001b[0m \u001b[32m116.1/116.1 kB\u001b[0m \u001b[31m26.3 MB/s\u001b[0m eta \u001b[36m0:00:00\u001b[0m\n",
            "\u001b[2K   \u001b[90m━━━━━━━━━━━━━━━━━━━━━━━━━━━━━━━━━━━━━━━━\u001b[0m \u001b[32m161.7/161.7 kB\u001b[0m \u001b[31m23.3 MB/s\u001b[0m eta \u001b[36m0:00:00\u001b[0m\n",
            "\u001b[2K   \u001b[90m━━━━━━━━━━━━━━━━━━━━━━━━━━━━━━━━━━━━━━━━\u001b[0m \u001b[32m61.4/61.4 kB\u001b[0m \u001b[31m194.0 MB/s\u001b[0m eta \u001b[36m0:00:00\u001b[0m\n",
            "\u001b[2K   \u001b[90m━━━━━━━━━━━━━━━━━━━━━━━━━━━━━━━━━━━━━━━━\u001b[0m \u001b[32m66.5/66.5 kB\u001b[0m \u001b[31m158.9 MB/s\u001b[0m eta \u001b[36m0:00:00\u001b[0m\n",
            "\u001b[?25h  Building wheel for red-dwarf (pyproject.toml) ... \u001b[?25l\u001b[?25hdone\n"
          ]
        }
      ],
      "source": [
        "%pip install --quiet --no-cache-dir git+https://github.com/polis-community/red-dwarf.git@main"
      ]
    },
    {
      "cell_type": "code",
      "execution_count": 2,
      "metadata": {
        "colab": {
          "base_uri": "https://localhost:8080/"
        },
        "id": "NkGdoHCy8RdA",
        "outputId": "ac246841-e319-494f-eb90-431fec639bc2"
      },
      "outputs": [
        {
          "output_type": "stream",
          "name": "stdout",
          "text": [
            "Loading data from https://pol.is/report/r2dfw8eambusb8buvecjt\n",
            "{\n",
            "  \"participant_id\": 0,\n",
            "  \"statement_id\": 0,\n",
            "  \"vote\": 1,\n",
            "  \"weight_x_32767\": 0,\n",
            "  \"modified\": 1544544810393.0,\n",
            "  \"conversation_id\": \"6jrufhr6dp\",\n",
            "  \"datetime\": null\n",
            "}\n",
            "{\n",
            "  \"txt\": \"I feel Blockchain technologies have been over-hyped.\",\n",
            "  \"statement_id\": 1,\n",
            "  \"created\": \"2018-12-11T16:13:43.605000Z\",\n",
            "  \"tweet_id\": null,\n",
            "  \"quote_src_url\": null,\n",
            "  \"is_seed\": false,\n",
            "  \"is_meta\": false,\n",
            "  \"lang\": \"en\",\n",
            "  \"participant_id\": 0,\n",
            "  \"velocity\": 1,\n",
            "  \"moderated\": -1,\n",
            "  \"active\": true,\n",
            "  \"agree_count\": 12,\n",
            "  \"disagree_count\": 2,\n",
            "  \"pass_count\": 1,\n",
            "  \"count\": 15,\n",
            "  \"conversation_id\": \"6jrufhr6dp\",\n",
            "  \"datetime\": null\n",
            "}\n"
          ]
        }
      ],
      "source": [
        "from reddwarf.data_loader import Loader\n",
        "import json\n",
        "import numpy as np\n",
        "\n",
        "# Topic: What were the most significant developments in tech and politics in 2018?\n",
        "# 5 groups, 65 ptpts (56 grouped), 43 comments (open)\n",
        "REPORT_ID=\"r2dfw8eambusb8buvecjt\"\n",
        "# REPORT_ID=\"r6ipxzfudddppwesbmtmn\" # Alternative Polis convo\n",
        "\n",
        "print(f\"Loading data from https://pol.is/report/{REPORT_ID}\")\n",
        "\n",
        "# We'll use the data_loader utility to simply load vote data.\n",
        "loader = Loader(polis_id=REPORT_ID)\n",
        "votes = loader.votes_data\n",
        "\n",
        "# Show what our raw vote data looks like:\n",
        "print(json.dumps(votes[0], indent=2))\n",
        "\n",
        "# Show what our raw statement data looks like:\n",
        "statements = loader.comments_data\n",
        "print(json.dumps(statements[0], indent=2))\n",
        "\n",
        "# We need this for a little helper later.\n",
        "math_data = loader.math_data"
      ]
    },
    {
      "cell_type": "code",
      "source": [
        "# Now we use out custom polis implementation to recreate the Polis calculations.\n",
        "from reddwarf.implementations.polis import run_clustering\n",
        "from reddwarf.utils.statements import process_statements\n",
        "from reddwarf.utils.polismath import get_corrected_centroid_guesses\n",
        "\n",
        "# In this conversation, any -1 is moderated out. Matches upstream behavior.\n",
        "# TODO: Investigate why is_strict_moderation doesn't affect this.\n",
        "_, _, mod_out_statement_ids, _ = process_statements(statements)\n",
        "print(f\"{math_data['mod-out']=}\")\n",
        "print(f\"{mod_out_statement_ids=}\")\n",
        "\n",
        "# We can run this from scratch, but kmeans is non-deterministic and might find slightly different clusters\n",
        "# or even different k-values (number of groups) if the silhouette scores it finds are better.\n",
        "# To show how to reproduce Polis results, we'll set init guess coordinates that we know polis platform got:\n",
        "init_cluster_center_guesses = get_corrected_centroid_guesses(math_data, skip_correction=False)\n",
        "print(f\"{init_cluster_center_guesses=}\")"
      ],
      "metadata": {
        "id": "EAfHaFFIhYw7",
        "outputId": "18e03149-988a-4919-e8a5-41a3791a782a",
        "colab": {
          "base_uri": "https://localhost:8080/"
        }
      },
      "execution_count": 3,
      "outputs": [
        {
          "output_type": "stream",
          "name": "stdout",
          "text": [
            "math_data['mod-out']=[0, 1, 31]\n",
            "mod_out_statement_ids=[0, 1, 31]\n",
            "init_cluster_center_guesses=[[2.3249928691116573, -0.660737300795657], [-0.2555363550500295, 0.23787153431450953], [-1.2703643531444606, -1.913074376569441], [1.3341169243032838, 1.4244873357833063], [-3.2582815788575115, 1.4124353685383775]]\n"
          ]
        }
      ]
    },
    {
      "cell_type": "code",
      "source": [
        "# Now with those guessed cluster centers seeded, we'll run the whole calculation from raw vote data.\n",
        "result = run_clustering(\n",
        "    votes=votes,\n",
        "    mod_out_statement_ids=mod_out_statement_ids,\n",
        "    # If clustering is getting ready to find a new k, more need to uncomment\n",
        "    # this to properly reproduce Polis visualization.\n",
        "    #\n",
        "    # force_group_count=len(init_cluster_center_guesses),\n",
        "    init_centers=init_cluster_center_guesses,\n",
        "    # Polis has some edge-cases logic that keeps arbitrary [early] participants in\n",
        "    # the clustering algorithm for reasons that are hard to reproduce, so we\n",
        "    # borrow these.\n",
        "    # See: https://github.com/compdemocracy/polis/pull/1893#issuecomment-2654666421\n",
        "    keep_participant_ids=math_data[\"in-conv\"],\n",
        ")\n",
        "\n",
        "print(result.projected_participants.head(5))\n",
        "print(result.projected_statements.head(5))"
      ],
      "metadata": {
        "colab": {
          "base_uri": "https://localhost:8080/"
        },
        "id": "HnTewjhSIb0a",
        "outputId": "e4c69d54-3382-4225-8c7f-01a84a783fdd"
      },
      "execution_count": 4,
      "outputs": [
        {
          "output_type": "stream",
          "name": "stdout",
          "text": [
            "                       x         y  cluster_id\n",
            "participant_id                                \n",
            "0               1.973022  1.268457           3\n",
            "1               3.430412 -1.167209           0\n",
            "2               1.016923  0.471388           3\n",
            "3               1.126139  0.083078           3\n",
            "4               1.260190  0.808216           3\n",
            "                     x         y\n",
            "statement_id                    \n",
            "0             0.000000  0.000000\n",
            "1             0.000000  0.000000\n",
            "2             0.931253  0.267837\n",
            "3             0.871370 -1.240633\n",
            "4             1.250362 -0.635842\n"
          ]
        }
      ]
    },
    {
      "cell_type": "code",
      "source": [
        "from reddwarf.data_presenter import generate_figure_polis\n",
        "\n",
        "# flip_y sometimes needed to look like Polis interface\n",
        "generate_figure_polis(result, show_guesses=True, flip_y=False)\n",
        "# Note: the red points (group '-1') are the cluster center guesses that we fed into the KMeans algorithm.\n"
      ],
      "metadata": {
        "colab": {
          "base_uri": "https://localhost:8080/",
          "height": 469
        },
        "id": "u_NmYu_bIfLR",
        "outputId": "d5bd08da-447d-429d-9990-c99113ea886a"
      },
      "execution_count": 5,
      "outputs": [
        {
          "output_type": "stream",
          "name": "stdout",
          "text": [
            "Calculating convex hulls around clusters...\n",
            "Hull 0, bounding 11 points\n",
            "Hull 1, bounding 20 points\n",
            "Hull 2, bounding 10 points\n",
            "Hull 3, bounding 9 points\n",
            "Hull 4, bounding 6 points\n"
          ]
        },
        {
          "output_type": "display_data",
          "data": {
            "text/plain": [
              "<Figure size 560x400 with 2 Axes>"
            ],
            "image/png": "[encoded data removed]"
          },
          "metadata": {}
        }
      ]
    },
    {
      "cell_type": "markdown",
      "source": [
        "You can see that this looks exactly how the Polis visualization looks!\n",
        "\n",
        "![screenshot of the polis report](https://imgur.com/blkIEtW.png)"
      ],
      "metadata": {
        "id": "sZHr2vSWI6hY"
      }
    },
    {
      "cell_type": "code",
      "source": [
        "from reddwarf.utils.stats import select_representative_statements\n",
        "from reddwarf.data_presenter import print_repness\n",
        "\n",
        "repness = select_representative_statements(\n",
        "    grouped_stats_df=result.group_comment_stats,\n",
        "    mod_out_statement_ids=mod_out_statement_ids,\n",
        ")\n",
        "print_repness(repness=repness, statements_data=statements)\n"
      ],
      "metadata": {
        "id": "06pUuMhWKw5H",
        "outputId": "f9b0c6f4-e1f2-49cc-c4c4-ce7b6daa5c08",
        "colab": {
          "base_uri": "https://localhost:8080/"
        }
      },
      "execution_count": 6,
      "outputs": [
        {
          "output_type": "stream",
          "name": "stdout",
          "text": [
            "GROUP A\n",
            "* Major regulatory interference in the operation of Facebook's algorithms and policies is now definitely going to happen, in the USA.\n",
            "   100% of those in group A who voted on statement 11 agreed.\n",
            "\n",
            "* This year the SideWalk Labs project in Toronto brought the 'city of surveillance' discussion front and center.\n",
            "   100% of those in group A who voted on statement 33 agreed.\n",
            "\n",
            "* A significant number of governing elites lost fear of having an internet connected microphone in their house, listening to everything\n",
            "   80% of those in group A who voted on statement 17 agreed.\n",
            "\n",
            "* \"Access and Assistance\" laws passed by Australian Parliament give a blank cheque to any democracy that wants to install device backdoors.\n",
            "   100% of those in group A who voted on statement 36 agreed.\n",
            "\n",
            "* Facebook implementing local news and local government alerts directly into its product\n",
            "   100% of those in group A who voted on statement 15 disagreed.\n",
            "\n",
            "\n",
            "GROUP B\n",
            "* Swing Left's campaign in waiting: building grassroots donors and volunteers during the primary, ready to go for the winning candidate.\n",
            "   55% of those in group B who voted on statement 38 agreed.\n",
            "\n",
            "\n",
            "GROUP C\n",
            "* Cyber-security is still not taken seriously enough by most people in the politics-tech world.\n",
            "   100% of those in group C who voted on statement 5 agreed.\n",
            "\n",
            "* The realisation that the Republicans are now just as good at the parts of Digital comms that actually influence elections as the Democrats\n",
            "   80% of those in group C who voted on statement 16 disagreed.\n",
            "\n",
            "* Facebook implementing local news and local government alerts directly into its product\n",
            "   90% of those in group C who voted on statement 15 disagreed.\n",
            "\n",
            "* Cambridge Analytics was only an important scandal because it capture the attention of the political and media elite.\n",
            "   88% of those in group C who voted on statement 8 disagreed.\n",
            "\n",
            "* The endowment of Signal (the messaging app) with a large endowment, by one of the co-founders of WhatsApp.\n",
            "   70% of those in group C who voted on statement 14 disagreed.\n",
            "\n",
            "\n",
            "GROUP D\n",
            "* Facebook implementing local news and local government alerts directly into its product\n",
            "   85% of those in group D who voted on statement 15 agreed.\n",
            "\n",
            "* Alexandria Ocasio-Cortez and the Instagram stories and live video, spinning up the Green New Deal — a modern FDR and fireside chats.\n",
            "   100% of those in group D who voted on statement 25 agreed.\n",
            "\n",
            "* A significant number of governing elites lost fear of having an internet connected microphone in their house, listening to everything\n",
            "   85% of those in group D who voted on statement 17 agreed.\n",
            "\n",
            "* The realisation that the Republicans are now just as good at the parts of Digital comms that actually influence elections as the Democrats\n",
            "   85% of those in group D who voted on statement 16 agreed.\n",
            "\n",
            "* Embarrassed by Facebook's role in the 2016 election, many social media companies deployed get-out-the-vote features on election day 2018.\n",
            "   80% of those in group D who voted on statement 34 agreed.\n",
            "\n",
            "\n",
            "GROUP E\n",
            "* The realisation that the Republicans are now just as good at the parts of Digital comms that actually influence elections as the Democrats\n",
            "   83% of those in group E who voted on statement 16 agreed.\n",
            "\n",
            "* Major regulatory interference in the operation of Facebook's algorithms and policies is now definitely going to happen, in the USA.\n",
            "   100% of those in group E who voted on statement 11 disagreed.\n",
            "\n",
            "* The brutal silencing of Jamal Khashoggi is one of the most significant happenings of 2018\n",
            "   75% of those in group E who voted on statement 32 disagreed.\n",
            "\n",
            "* I came to realise that ultimately the internet had been more damaging for democracy than it was good for it.\n",
            "   83% of those in group E who voted on statement 13 disagreed.\n",
            "\n",
            "* The walkout by 20,000 Google workers over its history on sexual harassment issues was one of the biggest tech-politics developments of 2018.\n",
            "   83% of those in group E who voted on statement 6 disagreed.\n",
            "\n",
            "\n"
          ]
        }
      ]
    }
  ],
  "metadata": {
    "colab": {
      "provenance": [],
      "include_colab_link": true
    },
    "kernelspec": {
      "display_name": "Python 3",
      "name": "python3"
    },
    "language_info": {
      "name": "python"
    }
  },
  "nbformat": 4,
  "nbformat_minor": 0
}